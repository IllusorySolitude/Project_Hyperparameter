{
  "cells": [
    {
      "cell_type": "markdown",
      "source": [
        "IMPORTING AND LOADING DATA"
      ],
      "metadata": {
        "id": "1LQbW5Lodk8l"
      }
    },
    {
      "cell_type": "code",
      "execution_count": 2,
      "metadata": {
        "colab": {
          "base_uri": "https://localhost:8080/"
        },
        "id": "Hno1inGq91R7",
        "outputId": "b4248d2b-1a11-4e49-fd05-cf580a52575c"
      },
      "outputs": [
        {
          "output_type": "stream",
          "name": "stdout",
          "text": [
            "[nltk_data] Downloading package vader_lexicon to /root/nltk_data...\n",
            "[nltk_data] Downloading package stopwords to /root/nltk_data...\n",
            "[nltk_data]   Unzipping corpora/stopwords.zip.\n",
            "[nltk_data] Downloading package wordnet to /root/nltk_data...\n",
            "[nltk_data]   Unzipping corpora/wordnet.zip.\n",
            "[nltk_data] Downloading package punkt to /root/nltk_data...\n",
            "[nltk_data]   Unzipping tokenizers/punkt.zip.\n",
            "[nltk_data] Downloading package averaged_perceptron_tagger to\n",
            "[nltk_data]     /root/nltk_data...\n",
            "[nltk_data]   Unzipping taggers/averaged_perceptron_tagger.zip.\n"
          ]
        }
      ],
      "source": [
        "#utilities\n",
        "import re\n",
        "import numpy as np\n",
        "import pandas as pd\n",
        "import sqlite3 as sq3\n",
        "import torch\n",
        "import torch.nn as nn\n",
        "import torch.nn.functional as F\n",
        "from torch.utils.data import DataLoader, TensorDataset\n",
        "\n",
        "\n",
        "\n",
        "import torch\n",
        "from torch import nn\n",
        "import numpy as np\n",
        "import pandas as pd\n",
        "from sklearn.model_selection import train_test_split\n",
        "from sklearn.feature_extraction.text import TfidfVectorizer\n",
        "import scipy\n",
        "from torch import optim\n",
        "import matplotlib.pyplot as plt\n",
        "%matplotlib inline\n",
        "%config InlineBackend.figure_format = 'retina'\n",
        "torch.__version__\n",
        "\n",
        "\n",
        "import numpy as np\n",
        "import pandas as pd\n",
        "\n",
        "import re\n",
        "\n",
        "from sklearn.model_selection import train_test_split\n",
        "from sklearn.metrics import accuracy_score\n",
        "\n",
        "import nltk\n",
        "from nltk.tokenize import word_tokenize\n",
        "\n",
        "import matplotlib.pyplot as plt\n",
        "# plotting\n",
        "import seaborn as sns\n",
        "import matplotlib.pyplot as plt\n",
        "\n",
        "# nltk\n",
        "from nltk.tokenize import word_tokenize\n",
        "from nltk.stem import WordNetLemmatizer\n",
        "from nltk.corpus import stopwords\n",
        "import nltk\n",
        "nltk.download('vader_lexicon')\n",
        "nltk.download('stopwords')\n",
        "nltk.download('wordnet')\n",
        "nltk.download('punkt')\n",
        "nltk.download('averaged_perceptron_tagger') \n",
        "\n",
        "# sklearn\n",
        "from sklearn.svm import LinearSVC\n",
        "from sklearn.naive_bayes import BernoulliNB\n",
        "from sklearn.linear_model import LogisticRegression\n",
        "from sklearn.model_selection import train_test_split\n",
        "from sklearn.feature_extraction.text import TfidfVectorizer\n",
        "from sklearn.metrics import confusion_matrix, classification_report\n",
        "from sklearn.linear_model import LogisticRegression\n",
        "from sklearn.neighbors import KNeighborsClassifier\n",
        "from sklearn.svm import SVC, LinearSVC, NuSVC\n",
        "from sklearn.tree import DecisionTreeClassifier\n",
        "from sklearn.ensemble import RandomForestClassifier, AdaBoostClassifier, GradientBoostingClassifier\n",
        "from sklearn.naive_bayes import GaussianNB\n",
        "from sklearn.discriminant_analysis import LinearDiscriminantAnalysis\n",
        "from sklearn.discriminant_analysis import QuadraticDiscriminantAnalysis\n",
        "from sklearn.metrics import accuracy_score\n",
        "from sklearn.naive_bayes import MultinomialNB\n",
        "from sklearn.naive_bayes import (\n",
        "    BernoulliNB,\n",
        "    ComplementNB,\n",
        "    MultinomialNB,)\n",
        "from sklearn.neighbors import KNeighborsClassifier\n",
        "from sklearn.tree import DecisionTreeClassifier\n",
        "from sklearn.ensemble import RandomForestClassifier, AdaBoostClassifier\n",
        "from sklearn.linear_model import LogisticRegression\n",
        "from sklearn.neural_network import MLPClassifier\n",
        "from sklearn.discriminant_analysis import QuadraticDiscriminantAnalysis\n",
        "from xgboost import XGBClassifier\n",
        "from sklearn.ensemble import GradientBoostingClassifier\n",
        "from sklearn.feature_extraction.text import CountVectorizer"
      ]
    },
    {
      "cell_type": "code",
      "execution_count": 3,
      "metadata": {
        "colab": {
          "base_uri": "https://localhost:8080/",
          "height": 496
        },
        "id": "28fLVGB2fvtC",
        "outputId": "e2f008c0-3c97-4abe-97ba-9226dbf3f8f1"
      },
      "outputs": [
        {
          "output_type": "execute_result",
          "data": {
            "text/plain": [
              "             tweet_id airline_sentiment airline_sentiment_confidence  \\\n",
              "0  570306133677760513           neutral                          1.0   \n",
              "1  570301130888122368          positive                       0.3486   \n",
              "2  570301083672813571           neutral                       0.6837   \n",
              "3  570301031407624196          negative                          1.0   \n",
              "4  570300817074462722          negative                          1.0   \n",
              "\n",
              "  negativereason negativereason_confidence         airline  \\\n",
              "0           None                      None  Virgin America   \n",
              "1           None                       0.0  Virgin America   \n",
              "2           None                      None  Virgin America   \n",
              "3     Bad Flight                    0.7033  Virgin America   \n",
              "4     Can't Tell                       1.0  Virgin America   \n",
              "\n",
              "  airline_sentiment_gold        name negativereason_gold retweetcount  \\\n",
              "0                   None     cairdin                None            0   \n",
              "1                   None    jnardino                None            0   \n",
              "2                   None  yvonnalynn                None            0   \n",
              "3                   None    jnardino                None            0   \n",
              "4                   None    jnardino                None            0   \n",
              "\n",
              "                                                text tweet_coord  \\\n",
              "0                @VirginAmerica What @dhepburn said.        None   \n",
              "1  @VirginAmerica plus you've added commercials t...        None   \n",
              "2  @VirginAmerica I didn't today... Must mean I n...        None   \n",
              "3  @VirginAmerica it's really aggressive to blast...        None   \n",
              "4  @VirginAmerica and it's a really big bad thing...        None   \n",
              "\n",
              "               tweet_created tweet_location               user_timezone  \n",
              "0  2015-02-24 11:35:52 -0800           None  Eastern Time (US & Canada)  \n",
              "1  2015-02-24 11:15:59 -0800           None  Pacific Time (US & Canada)  \n",
              "2  2015-02-24 11:15:48 -0800      Lets Play  Central Time (US & Canada)  \n",
              "3  2015-02-24 11:15:36 -0800           None  Pacific Time (US & Canada)  \n",
              "4  2015-02-24 11:14:45 -0800           None  Pacific Time (US & Canada)  "
            ],
            "text/html": [
              "\n",
              "  <div id=\"df-0d8d5ce2-895e-4d2e-904a-0e961f99b2b7\">\n",
              "    <div class=\"colab-df-container\">\n",
              "      <div>\n",
              "<style scoped>\n",
              "    .dataframe tbody tr th:only-of-type {\n",
              "        vertical-align: middle;\n",
              "    }\n",
              "\n",
              "    .dataframe tbody tr th {\n",
              "        vertical-align: top;\n",
              "    }\n",
              "\n",
              "    .dataframe thead th {\n",
              "        text-align: right;\n",
              "    }\n",
              "</style>\n",
              "<table border=\"1\" class=\"dataframe\">\n",
              "  <thead>\n",
              "    <tr style=\"text-align: right;\">\n",
              "      <th></th>\n",
              "      <th>tweet_id</th>\n",
              "      <th>airline_sentiment</th>\n",
              "      <th>airline_sentiment_confidence</th>\n",
              "      <th>negativereason</th>\n",
              "      <th>negativereason_confidence</th>\n",
              "      <th>airline</th>\n",
              "      <th>airline_sentiment_gold</th>\n",
              "      <th>name</th>\n",
              "      <th>negativereason_gold</th>\n",
              "      <th>retweetcount</th>\n",
              "      <th>text</th>\n",
              "      <th>tweet_coord</th>\n",
              "      <th>tweet_created</th>\n",
              "      <th>tweet_location</th>\n",
              "      <th>user_timezone</th>\n",
              "    </tr>\n",
              "  </thead>\n",
              "  <tbody>\n",
              "    <tr>\n",
              "      <th>0</th>\n",
              "      <td>570306133677760513</td>\n",
              "      <td>neutral</td>\n",
              "      <td>1.0</td>\n",
              "      <td>None</td>\n",
              "      <td>None</td>\n",
              "      <td>Virgin America</td>\n",
              "      <td>None</td>\n",
              "      <td>cairdin</td>\n",
              "      <td>None</td>\n",
              "      <td>0</td>\n",
              "      <td>@VirginAmerica What @dhepburn said.</td>\n",
              "      <td>None</td>\n",
              "      <td>2015-02-24 11:35:52 -0800</td>\n",
              "      <td>None</td>\n",
              "      <td>Eastern Time (US &amp; Canada)</td>\n",
              "    </tr>\n",
              "    <tr>\n",
              "      <th>1</th>\n",
              "      <td>570301130888122368</td>\n",
              "      <td>positive</td>\n",
              "      <td>0.3486</td>\n",
              "      <td>None</td>\n",
              "      <td>0.0</td>\n",
              "      <td>Virgin America</td>\n",
              "      <td>None</td>\n",
              "      <td>jnardino</td>\n",
              "      <td>None</td>\n",
              "      <td>0</td>\n",
              "      <td>@VirginAmerica plus you've added commercials t...</td>\n",
              "      <td>None</td>\n",
              "      <td>2015-02-24 11:15:59 -0800</td>\n",
              "      <td>None</td>\n",
              "      <td>Pacific Time (US &amp; Canada)</td>\n",
              "    </tr>\n",
              "    <tr>\n",
              "      <th>2</th>\n",
              "      <td>570301083672813571</td>\n",
              "      <td>neutral</td>\n",
              "      <td>0.6837</td>\n",
              "      <td>None</td>\n",
              "      <td>None</td>\n",
              "      <td>Virgin America</td>\n",
              "      <td>None</td>\n",
              "      <td>yvonnalynn</td>\n",
              "      <td>None</td>\n",
              "      <td>0</td>\n",
              "      <td>@VirginAmerica I didn't today... Must mean I n...</td>\n",
              "      <td>None</td>\n",
              "      <td>2015-02-24 11:15:48 -0800</td>\n",
              "      <td>Lets Play</td>\n",
              "      <td>Central Time (US &amp; Canada)</td>\n",
              "    </tr>\n",
              "    <tr>\n",
              "      <th>3</th>\n",
              "      <td>570301031407624196</td>\n",
              "      <td>negative</td>\n",
              "      <td>1.0</td>\n",
              "      <td>Bad Flight</td>\n",
              "      <td>0.7033</td>\n",
              "      <td>Virgin America</td>\n",
              "      <td>None</td>\n",
              "      <td>jnardino</td>\n",
              "      <td>None</td>\n",
              "      <td>0</td>\n",
              "      <td>@VirginAmerica it's really aggressive to blast...</td>\n",
              "      <td>None</td>\n",
              "      <td>2015-02-24 11:15:36 -0800</td>\n",
              "      <td>None</td>\n",
              "      <td>Pacific Time (US &amp; Canada)</td>\n",
              "    </tr>\n",
              "    <tr>\n",
              "      <th>4</th>\n",
              "      <td>570300817074462722</td>\n",
              "      <td>negative</td>\n",
              "      <td>1.0</td>\n",
              "      <td>Can't Tell</td>\n",
              "      <td>1.0</td>\n",
              "      <td>Virgin America</td>\n",
              "      <td>None</td>\n",
              "      <td>jnardino</td>\n",
              "      <td>None</td>\n",
              "      <td>0</td>\n",
              "      <td>@VirginAmerica and it's a really big bad thing...</td>\n",
              "      <td>None</td>\n",
              "      <td>2015-02-24 11:14:45 -0800</td>\n",
              "      <td>None</td>\n",
              "      <td>Pacific Time (US &amp; Canada)</td>\n",
              "    </tr>\n",
              "  </tbody>\n",
              "</table>\n",
              "</div>\n",
              "      <button class=\"colab-df-convert\" onclick=\"convertToInteractive('df-0d8d5ce2-895e-4d2e-904a-0e961f99b2b7')\"\n",
              "              title=\"Convert this dataframe to an interactive table.\"\n",
              "              style=\"display:none;\">\n",
              "        \n",
              "  <svg xmlns=\"http://www.w3.org/2000/svg\" height=\"24px\"viewBox=\"0 0 24 24\"\n",
              "       width=\"24px\">\n",
              "    <path d=\"M0 0h24v24H0V0z\" fill=\"none\"/>\n",
              "    <path d=\"M18.56 5.44l.94 2.06.94-2.06 2.06-.94-2.06-.94-.94-2.06-.94 2.06-2.06.94zm-11 1L8.5 8.5l.94-2.06 2.06-.94-2.06-.94L8.5 2.5l-.94 2.06-2.06.94zm10 10l.94 2.06.94-2.06 2.06-.94-2.06-.94-.94-2.06-.94 2.06-2.06.94z\"/><path d=\"M17.41 7.96l-1.37-1.37c-.4-.4-.92-.59-1.43-.59-.52 0-1.04.2-1.43.59L10.3 9.45l-7.72 7.72c-.78.78-.78 2.05 0 2.83L4 21.41c.39.39.9.59 1.41.59.51 0 1.02-.2 1.41-.59l7.78-7.78 2.81-2.81c.8-.78.8-2.07 0-2.86zM5.41 20L4 18.59l7.72-7.72 1.47 1.35L5.41 20z\"/>\n",
              "  </svg>\n",
              "      </button>\n",
              "      \n",
              "  <style>\n",
              "    .colab-df-container {\n",
              "      display:flex;\n",
              "      flex-wrap:wrap;\n",
              "      gap: 12px;\n",
              "    }\n",
              "\n",
              "    .colab-df-convert {\n",
              "      background-color: #E8F0FE;\n",
              "      border: none;\n",
              "      border-radius: 50%;\n",
              "      cursor: pointer;\n",
              "      display: none;\n",
              "      fill: #1967D2;\n",
              "      height: 32px;\n",
              "      padding: 0 0 0 0;\n",
              "      width: 32px;\n",
              "    }\n",
              "\n",
              "    .colab-df-convert:hover {\n",
              "      background-color: #E2EBFA;\n",
              "      box-shadow: 0px 1px 2px rgba(60, 64, 67, 0.3), 0px 1px 3px 1px rgba(60, 64, 67, 0.15);\n",
              "      fill: #174EA6;\n",
              "    }\n",
              "\n",
              "    [theme=dark] .colab-df-convert {\n",
              "      background-color: #3B4455;\n",
              "      fill: #D2E3FC;\n",
              "    }\n",
              "\n",
              "    [theme=dark] .colab-df-convert:hover {\n",
              "      background-color: #434B5C;\n",
              "      box-shadow: 0px 1px 3px 1px rgba(0, 0, 0, 0.15);\n",
              "      filter: drop-shadow(0px 1px 2px rgba(0, 0, 0, 0.3));\n",
              "      fill: #FFFFFF;\n",
              "    }\n",
              "  </style>\n",
              "\n",
              "      <script>\n",
              "        const buttonEl =\n",
              "          document.querySelector('#df-0d8d5ce2-895e-4d2e-904a-0e961f99b2b7 button.colab-df-convert');\n",
              "        buttonEl.style.display =\n",
              "          google.colab.kernel.accessAllowed ? 'block' : 'none';\n",
              "\n",
              "        async function convertToInteractive(key) {\n",
              "          const element = document.querySelector('#df-0d8d5ce2-895e-4d2e-904a-0e961f99b2b7');\n",
              "          const dataTable =\n",
              "            await google.colab.kernel.invokeFunction('convertToInteractive',\n",
              "                                                     [key], {});\n",
              "          if (!dataTable) return;\n",
              "\n",
              "          const docLinkHtml = 'Like what you see? Visit the ' +\n",
              "            '<a target=\"_blank\" href=https://colab.research.google.com/notebooks/data_table.ipynb>data table notebook</a>'\n",
              "            + ' to learn more about interactive tables.';\n",
              "          element.innerHTML = '';\n",
              "          dataTable['output_type'] = 'display_data';\n",
              "          await google.colab.output.renderOutput(dataTable, element);\n",
              "          const docLink = document.createElement('div');\n",
              "          docLink.innerHTML = docLinkHtml;\n",
              "          element.appendChild(docLink);\n",
              "        }\n",
              "      </script>\n",
              "    </div>\n",
              "  </div>\n",
              "  "
            ]
          },
          "metadata": {},
          "execution_count": 3
        }
      ],
      "source": [
        "#Importing data from the database\n",
        "\n",
        "path = '/content/drive/MyDrive/Colab Notebooks/Sentiment.db'\n",
        "con = sq3.Connection(path)\n",
        "query = \"\"\"\n",
        "SELECT *\n",
        "FROM airline;\n",
        "\"\"\"\n",
        "dataset = pd.read_sql(query, con)\n",
        "dataset.columns = ['tweet_id','airline_sentiment','airline_sentiment_confidence','negativereason','negativereason_confidence','airline', 'airline_sentiment_gold', 'name', 'negativereason_gold', 'retweetcount', 'text', 'tweet_coord', 'tweet_created', 'tweet_location', 'user_timezone']\n",
        "dataset = dataset.iloc[1:]\n",
        "dataset.index = range(len(dataset))\n",
        "dataset.head()"
      ]
    },
    {
      "cell_type": "code",
      "source": [
        "#General info about the dataset\n",
        "\n",
        "dataset.info()"
      ],
      "metadata": {
        "id": "QnsR1ip4lKun",
        "colab": {
          "base_uri": "https://localhost:8080/"
        },
        "outputId": "f1a3477c-411c-45e2-d6c4-69334d3479a7"
      },
      "execution_count": 4,
      "outputs": [
        {
          "output_type": "stream",
          "name": "stdout",
          "text": [
            "<class 'pandas.core.frame.DataFrame'>\n",
            "RangeIndex: 14640 entries, 0 to 14639\n",
            "Data columns (total 15 columns):\n",
            " #   Column                        Non-Null Count  Dtype \n",
            "---  ------                        --------------  ----- \n",
            " 0   tweet_id                      14640 non-null  object\n",
            " 1   airline_sentiment             14640 non-null  object\n",
            " 2   airline_sentiment_confidence  14640 non-null  object\n",
            " 3   negativereason                9178 non-null   object\n",
            " 4   negativereason_confidence     10522 non-null  object\n",
            " 5   airline                       14640 non-null  object\n",
            " 6   airline_sentiment_gold        40 non-null     object\n",
            " 7   name                          14640 non-null  object\n",
            " 8   negativereason_gold           32 non-null     object\n",
            " 9   retweetcount                  14640 non-null  object\n",
            " 10  text                          14640 non-null  object\n",
            " 11  tweet_coord                   1019 non-null   object\n",
            " 12  tweet_created                 14640 non-null  object\n",
            " 13  tweet_location                9907 non-null   object\n",
            " 14  user_timezone                 9820 non-null   object\n",
            "dtypes: object(15)\n",
            "memory usage: 1.7+ MB\n"
          ]
        }
      ]
    },
    {
      "cell_type": "markdown",
      "source": [
        "TEXT PREPROCESSING & DATA CLEANING"
      ],
      "metadata": {
        "id": "K--MSk8AeG9q"
      }
    },
    {
      "cell_type": "code",
      "execution_count": 5,
      "metadata": {
        "colab": {
          "base_uri": "https://localhost:8080/"
        },
        "id": "sgXvEE1p-KWw",
        "outputId": "7a2dac5e-f5ac-48a7-ace1-8eb0438a7080"
      },
      "outputs": [
        {
          "output_type": "execute_result",
          "data": {
            "text/plain": [
              "-1    9178\n",
              " 0    3099\n",
              " 1    2363\n",
              "Name: airline_sentiment, dtype: int64"
            ]
          },
          "metadata": {},
          "execution_count": 5
        }
      ],
      "source": [
        "dataset['airline_sentiment'].replace(('neutral', 'positive', 'negative'), (0, 1, -1), inplace=True)\n",
        "dataset['airline_sentiment'].value_counts()"
      ]
    },
    {
      "cell_type": "code",
      "execution_count": 6,
      "metadata": {
        "colab": {
          "base_uri": "https://localhost:8080/"
        },
        "id": "LPfa58I_-NeN",
        "outputId": "dce744b2-0a76-4d7a-dee2-4b5a1abfa529"
      },
      "outputs": [
        {
          "output_type": "execute_result",
          "data": {
            "text/plain": [
              "0                  @VirginAmerica What @dhepburn said.\n",
              "1    @VirginAmerica plus you've added commercials t...\n",
              "2    @VirginAmerica I didn't today... Must mean I n...\n",
              "3    @VirginAmerica it's really aggressive to blast...\n",
              "4    @VirginAmerica and it's a really big bad thing...\n",
              "Name: text, dtype: object"
            ]
          },
          "metadata": {},
          "execution_count": 6
        }
      ],
      "source": [
        "data_text = dataset['text']\n",
        "data_text.head()"
      ]
    },
    {
      "cell_type": "code",
      "execution_count": 7,
      "metadata": {
        "colab": {
          "base_uri": "https://localhost:8080/"
        },
        "id": "8eqVXQfk-rPE",
        "outputId": "ce72434b-d7bd-4f8b-fd62-c4adffca71cd"
      },
      "outputs": [
        {
          "output_type": "execute_result",
          "data": {
            "text/plain": [
              "0                  @VirginAmerica What @dhepburn said.\n",
              "1    @VirginAmerica plus added commercials experien...\n",
              "2    @VirginAmerica I today... Must mean I need tak...\n",
              "3    @VirginAmerica really aggressive blast obnoxio...\n",
              "4                  @VirginAmerica really big bad thing\n",
              "Name: text, dtype: object"
            ]
          },
          "metadata": {},
          "execution_count": 7
        }
      ],
      "source": [
        "STOPWORDS=stopwords.words('english')\n",
        "def cleaning_stopwords(text):\n",
        "    return \" \".join([word for word in str(text).split() if word not in STOPWORDS])\n",
        "data_text = data_text.apply(lambda text: cleaning_stopwords(text))\n",
        "data_text.head()"
      ]
    },
    {
      "cell_type": "code",
      "execution_count": 8,
      "metadata": {
        "colab": {
          "base_uri": "https://localhost:8080/"
        },
        "id": "b2OqSMHL_Kfa",
        "outputId": "6f1ee839-08b9-44f3-d347-c75685a884f0"
      },
      "outputs": [
        {
          "output_type": "execute_result",
          "data": {
            "text/plain": [
              "0                     VirginAmerica What dhepburn said\n",
              "1    VirginAmerica plus added commercials experienc...\n",
              "2    VirginAmerica I today Must mean I need take an...\n",
              "3    VirginAmerica really aggressive blast obnoxiou...\n",
              "4                   VirginAmerica really big bad thing\n",
              "Name: text, dtype: object"
            ]
          },
          "metadata": {},
          "execution_count": 8
        }
      ],
      "source": [
        "import string\n",
        "english_punctuations = string.punctuation\n",
        "punctuations_list = english_punctuations\n",
        "def cleaning_punctuations(text):\n",
        "    translator = str.maketrans('', '', punctuations_list)\n",
        "    return text.translate(translator)\n",
        "data_text = data_text.apply(lambda x: cleaning_punctuations(x))\n",
        "data_text.head()"
      ]
    },
    {
      "cell_type": "code",
      "execution_count": 9,
      "metadata": {
        "colab": {
          "base_uri": "https://localhost:8080/"
        },
        "id": "GxEIcNyh_OOY",
        "outputId": "558e39eb-0987-4191-9fb8-4035cf0c3755"
      },
      "outputs": [
        {
          "output_type": "execute_result",
          "data": {
            "text/plain": [
              "0                     VirginAmerica What dhepburn said\n",
              "1    VirginAmerica plus added commercials experienc...\n",
              "2    VirginAmerica I today Must mean I need take an...\n",
              "3    VirginAmerica really aggressive blast obnoxiou...\n",
              "4                   VirginAmerica really big bad thing\n",
              "Name: text, dtype: object"
            ]
          },
          "metadata": {},
          "execution_count": 9
        }
      ],
      "source": [
        "def cleaning_repeating_char(text):\n",
        "    return re.sub(r'(.)1+', r'1', text)\n",
        "data_text = data_text.apply(lambda x: cleaning_repeating_char(x))\n",
        "data_text.head()"
      ]
    },
    {
      "cell_type": "code",
      "execution_count": 10,
      "metadata": {
        "colab": {
          "base_uri": "https://localhost:8080/"
        },
        "id": "9m2GTswG_Qm9",
        "outputId": "e6e1a1b5-06af-4e16-abb0-504b9c477092"
      },
      "outputs": [
        {
          "output_type": "execute_result",
          "data": {
            "text/plain": [
              "0                     VirginAmerica What dhepburn said\n",
              "1    VirginAmerica plus added commercials experienc...\n",
              "2    VirginAmerica I today Must mean I need take an...\n",
              "3    VirginAmerica really aggressive blast obnoxiou...\n",
              "4                   VirginAmerica really big bad thing\n",
              "Name: text, dtype: object"
            ]
          },
          "metadata": {},
          "execution_count": 10
        }
      ],
      "source": [
        "def cleaning_URLs(data):\n",
        "    return re.sub('((www.[^s]+)|(https?://[^s]+))',' ',data)\n",
        "data_text = data_text.apply(lambda x: cleaning_URLs(x))\n",
        "data_text.head()"
      ]
    },
    {
      "cell_type": "code",
      "execution_count": 11,
      "metadata": {
        "colab": {
          "base_uri": "https://localhost:8080/"
        },
        "id": "Qpdjj96r_Sqi",
        "outputId": "8819254f-d922-4238-c62d-94a741593f43"
      },
      "outputs": [
        {
          "output_type": "execute_result",
          "data": {
            "text/plain": [
              "0                     VirginAmerica What dhepburn said\n",
              "1    VirginAmerica plus added commercials experienc...\n",
              "2    VirginAmerica I today Must mean I need take an...\n",
              "3    VirginAmerica really aggressive blast obnoxiou...\n",
              "4                   VirginAmerica really big bad thing\n",
              "Name: text, dtype: object"
            ]
          },
          "metadata": {},
          "execution_count": 11
        }
      ],
      "source": [
        "def cleaning_numbers(data):\n",
        "    return re.sub('[0-9]+', '', data)\n",
        "data_text = data_text.apply(lambda x: cleaning_numbers(x))\n",
        "data_text.head()"
      ]
    },
    {
      "cell_type": "code",
      "execution_count": 12,
      "metadata": {
        "colab": {
          "base_uri": "https://localhost:8080/"
        },
        "id": "HGRF1bgf_Wmz",
        "outputId": "16aa323d-9f02-4fa2-8650-0e304385eaca"
      },
      "outputs": [
        {
          "output_type": "execute_result",
          "data": {
            "text/plain": [
              "0                     VirginAmerica What dhepburn said\n",
              "1    VirginAmerica plus added commercials experienc...\n",
              "2    VirginAmerica I today Must mean I need take an...\n",
              "3    VirginAmerica really aggressive blast obnoxiou...\n",
              "4                   VirginAmerica really big bad thing\n",
              "Name: text, dtype: object"
            ]
          },
          "metadata": {},
          "execution_count": 12
        }
      ],
      "source": [
        "st = nltk.PorterStemmer()\n",
        "def stemming_on_text(data):\n",
        "    text = [st.stem(word) for word in data]\n",
        "    return data\n",
        "data_text = data_text.apply(lambda x: stemming_on_text(x))\n",
        "data_text.head()"
      ]
    },
    {
      "cell_type": "code",
      "execution_count": 13,
      "metadata": {
        "colab": {
          "base_uri": "https://localhost:8080/"
        },
        "id": "b8wSKphl_XuI",
        "outputId": "aa8502ee-b82d-4ad1-fb67-f9102e22fdb3"
      },
      "outputs": [
        {
          "output_type": "execute_result",
          "data": {
            "text/plain": [
              "0                     VirginAmerica What dhepburn said\n",
              "1    VirginAmerica plus added commercials experienc...\n",
              "2    VirginAmerica I today Must mean I need take an...\n",
              "3    VirginAmerica really aggressive blast obnoxiou...\n",
              "4                   VirginAmerica really big bad thing\n",
              "Name: text, dtype: object"
            ]
          },
          "metadata": {},
          "execution_count": 13
        }
      ],
      "source": [
        "lm = nltk.WordNetLemmatizer()\n",
        "def lemmatizer_on_text(data):\n",
        "    text = [lm.lemmatize(word) for word in data]\n",
        "    return data\n",
        "data_text = data_text.apply(lambda x: lemmatizer_on_text(x))\n",
        "data_text.head()"
      ]
    },
    {
      "cell_type": "code",
      "execution_count": 14,
      "metadata": {
        "colab": {
          "base_uri": "https://localhost:8080/"
        },
        "id": "teW5ZsZbp3pL",
        "outputId": "556f3b67-a3e2-49b1-84d5-4193ee79cb72"
      },
      "outputs": [
        {
          "output_type": "execute_result",
          "data": {
            "text/plain": [
              "0                     VirginAmerica What dhepburn said\n",
              "1    VirginAmerica plus added commercials experienc...\n",
              "2    VirginAmerica I today Must mean I need take an...\n",
              "3    VirginAmerica really aggressive blast obnoxiou...\n",
              "4                   VirginAmerica really big bad thing\n",
              "Name: text, dtype: object"
            ]
          },
          "metadata": {},
          "execution_count": 14
        }
      ],
      "source": [
        "X_train = data_text\n",
        "X_train.head()"
      ]
    },
    {
      "cell_type": "markdown",
      "source": [
        "MACHINE LEARNING"
      ],
      "metadata": {
        "id": "CT4i44vqehLa"
      }
    },
    {
      "cell_type": "code",
      "execution_count": 15,
      "metadata": {
        "id": "zV-_U5z__m4H",
        "colab": {
          "base_uri": "https://localhost:8080/"
        },
        "outputId": "a32fed97-1603-4cbe-b494-fa716359d93e"
      },
      "outputs": [
        {
          "output_type": "stream",
          "name": "stdout",
          "text": [
            "Number of training examples: 11712\n",
            "Number of testing examples: 2928\n"
          ]
        }
      ],
      "source": [
        "train_X, test_X, y_train, y_test = train_test_split(X_train, dataset['airline_sentiment'], test_size=0.2, \n",
        "                                                    random_state=42, shuffle=True)\n",
        "print(f'Number of training examples: {len(train_X)}')\n",
        "print(f'Number of testing examples: {len(test_X)}')"
      ]
    },
    {
      "cell_type": "code",
      "execution_count": 16,
      "metadata": {
        "id": "V7dgSClFIlJi",
        "colab": {
          "base_uri": "https://localhost:8080/"
        },
        "outputId": "b577c1d6-d615-4402-becc-af30dfcab815"
      },
      "outputs": [
        {
          "output_type": "stream",
          "name": "stdout",
          "text": [
            "Data Transformed.\n"
          ]
        }
      ],
      "source": [
        "#Convert words to vectors\n",
        "\n",
        "c = CountVectorizer(analyzer = 'word')\n",
        "X_train = c.fit_transform(train_X)\n",
        "X_test  = c.transform(test_X)\n",
        "print(f'Data Transformed.')"
      ]
    },
    {
      "cell_type": "code",
      "execution_count": 17,
      "metadata": {
        "id": "xmDyRAqHBk7R"
      },
      "outputs": [],
      "source": [
        "model_params = {'random_state':50}\n",
        "LR =  LogisticRegression(**model_params,solver='liblinear')\n",
        "Forest = RandomForestClassifier()\n",
        "SVC = SVC(**model_params)"
      ]
    },
    {
      "cell_type": "code",
      "execution_count": 18,
      "metadata": {
        "id": "sQCSqbOmBrZV"
      },
      "outputs": [],
      "source": [
        "a = LR.fit(X_train, y_train)\n",
        "b = SVC.fit(X_train, y_train)\n",
        "c = Forest.fit(X_train, y_train)"
      ]
    },
    {
      "cell_type": "code",
      "execution_count": 19,
      "metadata": {
        "id": "47QiNlx_Keye",
        "colab": {
          "base_uri": "https://localhost:8080/"
        },
        "outputId": "18ea15a1-aa07-4396-b57a-009ff90505a5"
      },
      "outputs": [
        {
          "output_type": "stream",
          "name": "stdout",
          "text": [
            "Train Accuracy using Logistic Regression:  0.9236680327868853\n",
            "Test Accuracy using Logistic Regression:  0.8155737704918032\n",
            "\n",
            "Train Accuracy using SVC:  0.9237534153005464\n",
            "Accuracy using SVC:  0.7909836065573771\n",
            "\n",
            "Train Accuracy using RandomForest:  0.9972677595628415\n",
            "Accuracy using RandomForest:  0.7728825136612022\n"
          ]
        }
      ],
      "source": [
        "print(\"Train Accuracy using Logistic Regression: \", LR.score(X_train, y_train))\n",
        "pred_LR = a.predict(X_test)\n",
        "accuracy = accuracy_score(y_test, pred_LR)\n",
        "print(\"Test Accuracy using Logistic Regression: \", accuracy)\n",
        "\n",
        "print(\"\\nTrain Accuracy using SVC: \", SVC.score(X_train, y_train))\n",
        "pred_SVC = b.predict(X_test)\n",
        "accuracy = accuracy_score(pred_SVC, y_test)\n",
        "print(\"Accuracy using SVC: \", accuracy)\n",
        "\n",
        "print(\"\\nTrain Accuracy using RandomForest: \", Forest.score(X_train, y_train))\n",
        "pred_FOR = c.predict(X_test)\n",
        "accuracy = accuracy_score(pred_FOR, y_test)\n",
        "print(\"Accuracy using RandomForest: \", accuracy)"
      ]
    },
    {
      "cell_type": "code",
      "source": [
        "cr = classification_report(y_test, pred_LR)\n",
        "\n",
        "print(\"Classification Report:\\n----------------------\\n\", cr)\n",
        "\n",
        "cm = confusion_matrix(y_test,pred_LR)\n",
        "\n",
        "\n",
        "# plot confusion matrix \n",
        "plt.figure(figsize=(8,6))\n",
        "sentiment_classes = ['Negative', 'Neutral', 'Positive']\n",
        "sns.heatmap(cm, cmap=plt.cm.Blues, annot=True, fmt='d', \n",
        "            xticklabels=sentiment_classes,\n",
        "            yticklabels=sentiment_classes)\n",
        "plt.title('Confusion matrix', fontsize=16)\n",
        "plt.xlabel('Actual label', fontsize=12)\n",
        "plt.ylabel('Predicted label', fontsize=12)\n",
        "plt.show()"
      ],
      "metadata": {
        "colab": {
          "base_uri": "https://localhost:8080/",
          "height": 620
        },
        "id": "bSbi4WmIxd6t",
        "outputId": "7ee056e2-919d-4da2-f702-8e015de4bb2f"
      },
      "execution_count": 30,
      "outputs": [
        {
          "output_type": "stream",
          "name": "stdout",
          "text": [
            "Classification Report:\n",
            "----------------------\n",
            "               precision    recall  f1-score   support\n",
            "\n",
            "          -1       0.86      0.92      0.89      1889\n",
            "           0       0.67      0.58      0.62       580\n",
            "           1       0.77      0.69      0.73       459\n",
            "\n",
            "    accuracy                           0.82      2928\n",
            "   macro avg       0.77      0.73      0.75      2928\n",
            "weighted avg       0.81      0.82      0.81      2928\n",
            "\n"
          ]
        },
        {
          "output_type": "display_data",
          "data": {
            "text/plain": [
              "<Figure size 576x432 with 2 Axes>"
            ],
            "image/png": "[encoded data removed]"
          },
          "metadata": {
            "image/png": {
              "width": 475,
              "height": 391
            },
            "needs_background": "light"
          }
        }
      ]
    },
    {
      "cell_type": "code",
      "source": [
        "cr = classification_report(y_test, pred_SVC)\n",
        "\n",
        "print(\"Classification Report:\\n----------------------\\n\", cr)\n",
        "\n",
        "cm = confusion_matrix(y_test,pred_SVC)\n",
        "\n",
        "\n",
        "# plot confusion matrix \n",
        "plt.figure(figsize=(8,6))\n",
        "sentiment_classes = ['Negative', 'Neutral', 'Positive']\n",
        "sns.heatmap(cm, cmap=plt.cm.Blues, annot=True, fmt='d', \n",
        "            xticklabels=sentiment_classes,\n",
        "            yticklabels=sentiment_classes)\n",
        "plt.title('Confusion matrix', fontsize=16)\n",
        "plt.xlabel('Actual label', fontsize=12)\n",
        "plt.ylabel('Predicted label', fontsize=12)\n",
        "plt.show()"
      ],
      "metadata": {
        "colab": {
          "base_uri": "https://localhost:8080/",
          "height": 620
        },
        "id": "YG0wmIp_u1CF",
        "outputId": "30688da1-34a3-4ad8-84f6-5a68208b0130"
      },
      "execution_count": 23,
      "outputs": [
        {
          "output_type": "stream",
          "name": "stdout",
          "text": [
            "Classification Report:\n",
            "----------------------\n",
            "               precision    recall  f1-score   support\n",
            "\n",
            "          -1       0.82      0.93      0.87      1889\n",
            "           0       0.64      0.50      0.56       580\n",
            "           1       0.78      0.59      0.68       459\n",
            "\n",
            "    accuracy                           0.79      2928\n",
            "   macro avg       0.75      0.67      0.70      2928\n",
            "weighted avg       0.78      0.79      0.78      2928\n",
            "\n"
          ]
        },
        {
          "output_type": "display_data",
          "data": {
            "text/plain": [
              "<Figure size 576x432 with 2 Axes>"
            ],
            "image/png": "[encoded data removed]"
          },
          "metadata": {
            "image/png": {
              "width": 475,
              "height": 391
            },
            "needs_background": "light"
          }
        }
      ]
    },
    {
      "cell_type": "code",
      "source": [
        "cr = classification_report(y_test, pred_FOR)\n",
        "\n",
        "print(\"Classification Report:\\n----------------------\\n\", cr)\n",
        "\n",
        "cm = confusion_matrix(y_test,pred_FOR)\n",
        "\n",
        "\n",
        "# plot confusion matrix \n",
        "plt.figure(figsize=(8,6))\n",
        "sentiment_classes = ['Negative', 'Neutral', 'Positive']\n",
        "sns.heatmap(cm, cmap=plt.cm.Blues, annot=True, fmt='d', \n",
        "            xticklabels=sentiment_classes,\n",
        "            yticklabels=sentiment_classes)\n",
        "plt.title('Confusion matrix', fontsize=16)\n",
        "plt.xlabel('Actual label', fontsize=12)\n",
        "plt.ylabel('Predicted label', fontsize=12)\n",
        "plt.show()"
      ],
      "metadata": {
        "colab": {
          "base_uri": "https://localhost:8080/",
          "height": 620
        },
        "id": "NjD-3xF8u527",
        "outputId": "86a5dbdd-5b62-4817-9aea-ed2dc435f692"
      },
      "execution_count": 24,
      "outputs": [
        {
          "output_type": "stream",
          "name": "stdout",
          "text": [
            "Classification Report:\n",
            "----------------------\n",
            "               precision    recall  f1-score   support\n",
            "\n",
            "          -1       0.82      0.91      0.86      1889\n",
            "           0       0.59      0.46      0.52       580\n",
            "           1       0.75      0.58      0.66       459\n",
            "\n",
            "    accuracy                           0.77      2928\n",
            "   macro avg       0.72      0.65      0.68      2928\n",
            "weighted avg       0.76      0.77      0.76      2928\n",
            "\n"
          ]
        },
        {
          "output_type": "display_data",
          "data": {
            "text/plain": [
              "<Figure size 576x432 with 2 Axes>"
            ],
            "image/png": "[encoded data removed]"
          },
          "metadata": {
            "image/png": {
              "width": 475,
              "height": 391
            },
            "needs_background": "light"
          }
        }
      ]
    },
    {
      "cell_type": "code",
      "source": [
        "from sklearn.model_selection import GridSearchCV\n",
        "from sklearn import svm\n",
        "\n",
        "clf = GridSearchCV(svm.SVC(gamma='auto'), {\n",
        "    'C': [1000],\n",
        "    'kernel': ['rbf','linear']\n",
        "}, cv=5, return_train_score=True)\n",
        "clf.fit(X_train, y_train)\n",
        "pred_SVC1 = clf.predict(X_test)\n",
        "print(pred_SVC1)"
      ],
      "metadata": {
        "colab": {
          "base_uri": "https://localhost:8080/"
        },
        "id": "GSiC67x6vQEh",
        "outputId": "47f6fbd3-c3ac-4b92-b1bd-f54b2c6073c8"
      },
      "execution_count": 25,
      "outputs": [
        {
          "output_type": "stream",
          "name": "stdout",
          "text": [
            "[ 1 -1 -1 ... -1  0 -1]\n"
          ]
        }
      ]
    },
    {
      "cell_type": "code",
      "source": [
        "accuracy = accuracy_score(pred_SVC1, y_test)\n",
        "print(\"Accuracy using RandomForest: \", accuracy)"
      ],
      "metadata": {
        "colab": {
          "base_uri": "https://localhost:8080/"
        },
        "id": "m6EM4j9Yw-nB",
        "outputId": "99f92a63-69a6-4f3e-b9a9-125693512dde"
      },
      "execution_count": 26,
      "outputs": [
        {
          "output_type": "stream",
          "name": "stdout",
          "text": [
            "Accuracy using RandomForest:  0.7995218579234973\n"
          ]
        }
      ]
    },
    {
      "cell_type": "code",
      "source": [
        "cr = classification_report(y_test, pred_SVC1)\n",
        "\n",
        "print(\"Classification Report:\\n----------------------\\n\", cr)\n",
        "\n",
        "cm = confusion_matrix(y_test,pred_SVC1)\n",
        "\n",
        "\n",
        "# plot confusion matrix \n",
        "plt.figure(figsize=(8,6))\n",
        "sentiment_classes = ['Negative', 'Neutral', 'Positive']\n",
        "sns.heatmap(cm, cmap=plt.cm.Blues, annot=True, fmt='d', \n",
        "            xticklabels=sentiment_classes,\n",
        "            yticklabels=sentiment_classes)\n",
        "plt.title('Confusion matrix', fontsize=16)\n",
        "plt.xlabel('Actual label', fontsize=12)\n",
        "plt.ylabel('Predicted label', fontsize=12)\n",
        "plt.show()"
      ],
      "metadata": {
        "colab": {
          "base_uri": "https://localhost:8080/",
          "height": 620
        },
        "id": "xjYXf8mYydIV",
        "outputId": "f7da6dd7-3095-482b-884e-1567f626522f"
      },
      "execution_count": 31,
      "outputs": [
        {
          "output_type": "stream",
          "name": "stdout",
          "text": [
            "Classification Report:\n",
            "----------------------\n",
            "               precision    recall  f1-score   support\n",
            "\n",
            "          -1       0.85      0.90      0.88      1889\n",
            "           0       0.63      0.57      0.59       580\n",
            "           1       0.76      0.66      0.71       459\n",
            "\n",
            "    accuracy                           0.80      2928\n",
            "   macro avg       0.75      0.71      0.73      2928\n",
            "weighted avg       0.79      0.80      0.80      2928\n",
            "\n"
          ]
        },
        {
          "output_type": "display_data",
          "data": {
            "text/plain": [
              "<Figure size 576x432 with 2 Axes>"
            ],
            "image/png": "[encoded data removed]"
          },
          "metadata": {
            "image/png": {
              "width": 475,
              "height": 391
            },
            "needs_background": "light"
          }
        }
      ]
    },
    {
      "cell_type": "code",
      "source": [
        "from sklearn.model_selection import GridSearchCV\n",
        "from sklearn import svm\n",
        "\n",
        "clf = GridSearchCV(svm.SVC(gamma='auto'), {\n",
        "    'C': [1,5,10,15,20,25,30,35,40,45,50,75,100,150,200,500,1000],\n",
        "    'kernel': ['rbf','linear']\n",
        "}, cv=5, return_train_score=True)\n",
        "clf.fit(X_train, y_train)\n",
        "clf.cv_results_"
      ],
      "metadata": {
        "colab": {
          "base_uri": "https://localhost:8080/"
        },
        "id": "9TqydkP-XQxp",
        "outputId": "c1d7eb3c-7e17-45ac-df08-8c42874ed59c"
      },
      "execution_count": 19,
      "outputs": [
        {
          "output_type": "execute_result",
          "data": {
            "text/plain": [
              "{'mean_fit_time': array([ 8.35015564,  8.50692782,  8.33409872, 10.30440722,  8.45307193,\n",
              "        11.34605861,  8.49621592, 11.94059458,  8.56615853, 12.67739072,\n",
              "         8.568013  , 12.99686775,  8.52182436, 13.61606617,  8.53523226,\n",
              "        13.79113827,  8.50215006, 14.71115746,  8.5090436 , 14.72156091,\n",
              "         8.46769619, 14.75088367,  8.345333  , 15.3482039 ,  8.25783668,\n",
              "        16.42479405,  8.0788476 , 18.42569976,  8.00962934, 18.28724737,\n",
              "         7.93801098, 22.77054868,  8.13871536, 25.1674016 ]),\n",
              " 'mean_score_time': array([1.56888447, 1.11419997, 1.60246234, 1.05428214, 1.62473392,\n",
              "        1.0333755 , 1.62985806, 1.02187548, 1.63154697, 1.0094779 ,\n",
              "        1.63821549, 1.00293612, 1.63515186, 1.00303426, 1.62983704,\n",
              "        1.00151329, 1.62782536, 0.99765072, 1.63478885, 0.99291286,\n",
              "        1.61772265, 0.98841653, 1.59055986, 0.97635279, 1.56555243,\n",
              "        0.97411261, 1.54539304, 0.97090511, 1.53323679, 0.96813297,\n",
              "        1.46911449, 0.96358857, 1.43163805, 0.95599713]),\n",
              " 'mean_test_score': array([0.62235315, 0.76101464, 0.62235315, 0.73249693, 0.62260935,\n",
              "        0.72378803, 0.62431692, 0.71601832, 0.6310622 , 0.71550608,\n",
              "        0.64933386, 0.71337144, 0.66427551, 0.71405447, 0.6783637 ,\n",
              "        0.71277366, 0.68024127, 0.71217574, 0.67972889, 0.71140716,\n",
              "        0.68032648, 0.71106558, 0.68476633, 0.71217526, 0.70090328,\n",
              "        0.71055319, 0.72814044, 0.70833367, 0.7444487 , 0.70568687,\n",
              "        0.77202802, 0.70227117, 0.77467519, 0.69979487]),\n",
              " 'mean_train_score': array([0.62235314, 0.96857923, 0.62235314, 0.98776897, 0.62269467,\n",
              "        0.99150445, 0.62448769, 0.99304134, 0.63264162, 0.9934896 ,\n",
              "        0.65221559, 0.99402325, 0.66978304, 0.99438613, 0.68344415,\n",
              "        0.99464227, 0.68506654, 0.99481303, 0.68323083, 0.99494111,\n",
              "        0.68284663, 0.99506918, 0.69068049, 0.99538936, 0.71315738,\n",
              "        0.99553878, 0.7570227 , 0.99577358, 0.78481469, 0.99596569,\n",
              "        0.85335556, 0.99626453, 0.89374147, 0.9963926 ]),\n",
              " 'param_C': masked_array(data=[1, 1, 5, 5, 10, 10, 15, 15, 20, 20, 25, 25, 30, 30, 35,\n",
              "                    35, 40, 40, 45, 45, 50, 50, 75, 75, 100, 100, 150, 150,\n",
              "                    200, 200, 500, 500, 1000, 1000],\n",
              "              mask=[False, False, False, False, False, False, False, False,\n",
              "                    False, False, False, False, False, False, False, False,\n",
              "                    False, False, False, False, False, False, False, False,\n",
              "                    False, False, False, False, False, False, False, False,\n",
              "                    False, False],\n",
              "        fill_value='?',\n",
              "             dtype=object),\n",
              " 'param_kernel': masked_array(data=['rbf', 'linear', 'rbf', 'linear', 'rbf', 'linear',\n",
              "                    'rbf', 'linear', 'rbf', 'linear', 'rbf', 'linear',\n",
              "                    'rbf', 'linear', 'rbf', 'linear', 'rbf', 'linear',\n",
              "                    'rbf', 'linear', 'rbf', 'linear', 'rbf', 'linear',\n",
              "                    'rbf', 'linear', 'rbf', 'linear', 'rbf', 'linear',\n",
              "                    'rbf', 'linear', 'rbf', 'linear'],\n",
              "              mask=[False, False, False, False, False, False, False, False,\n",
              "                    False, False, False, False, False, False, False, False,\n",
              "                    False, False, False, False, False, False, False, False,\n",
              "                    False, False, False, False, False, False, False, False,\n",
              "                    False, False],\n",
              "        fill_value='?',\n",
              "             dtype=object),\n",
              " 'params': [{'C': 1, 'kernel': 'rbf'},\n",
              "  {'C': 1, 'kernel': 'linear'},\n",
              "  {'C': 5, 'kernel': 'rbf'},\n",
              "  {'C': 5, 'kernel': 'linear'},\n",
              "  {'C': 10, 'kernel': 'rbf'},\n",
              "  {'C': 10, 'kernel': 'linear'},\n",
              "  {'C': 15, 'kernel': 'rbf'},\n",
              "  {'C': 15, 'kernel': 'linear'},\n",
              "  {'C': 20, 'kernel': 'rbf'},\n",
              "  {'C': 20, 'kernel': 'linear'},\n",
              "  {'C': 25, 'kernel': 'rbf'},\n",
              "  {'C': 25, 'kernel': 'linear'},\n",
              "  {'C': 30, 'kernel': 'rbf'},\n",
              "  {'C': 30, 'kernel': 'linear'},\n",
              "  {'C': 35, 'kernel': 'rbf'},\n",
              "  {'C': 35, 'kernel': 'linear'},\n",
              "  {'C': 40, 'kernel': 'rbf'},\n",
              "  {'C': 40, 'kernel': 'linear'},\n",
              "  {'C': 45, 'kernel': 'rbf'},\n",
              "  {'C': 45, 'kernel': 'linear'},\n",
              "  {'C': 50, 'kernel': 'rbf'},\n",
              "  {'C': 50, 'kernel': 'linear'},\n",
              "  {'C': 75, 'kernel': 'rbf'},\n",
              "  {'C': 75, 'kernel': 'linear'},\n",
              "  {'C': 100, 'kernel': 'rbf'},\n",
              "  {'C': 100, 'kernel': 'linear'},\n",
              "  {'C': 150, 'kernel': 'rbf'},\n",
              "  {'C': 150, 'kernel': 'linear'},\n",
              "  {'C': 200, 'kernel': 'rbf'},\n",
              "  {'C': 200, 'kernel': 'linear'},\n",
              "  {'C': 500, 'kernel': 'rbf'},\n",
              "  {'C': 500, 'kernel': 'linear'},\n",
              "  {'C': 1000, 'kernel': 'rbf'},\n",
              "  {'C': 1000, 'kernel': 'linear'}],\n",
              " 'rank_test_score': array([33,  3, 33,  5, 32,  7, 31,  8, 30,  9, 29, 11, 28, 10, 27, 12, 25,\n",
              "        13, 26, 15, 24, 16, 23, 14, 21, 17,  6, 18,  4, 19,  2, 20,  1, 22],\n",
              "       dtype=int32),\n",
              " 'split0_test_score': array([0.62227913, 0.75885617, 0.62227913, 0.73282117, 0.62227913,\n",
              "        0.72300469, 0.62441315, 0.71489543, 0.63081519, 0.71532224,\n",
              "        0.64959454, 0.71190781, 0.66965429, 0.70892019, 0.68160478,\n",
              "        0.70977379, 0.67819035, 0.70934699, 0.67690994, 0.7102006 ,\n",
              "        0.67733675, 0.7102006 , 0.68032437, 0.71574904, 0.70166453,\n",
              "        0.71318822, 0.73111396, 0.70678617, 0.74647887, 0.70166453,\n",
              "        0.77166026, 0.70038412, 0.77848912, 0.69825011]),\n",
              " 'split0_train_score': array([0.62237165, 0.96840645, 0.62237165, 0.98847262, 0.62279859,\n",
              "        0.99167467, 0.62450635, 0.99306223, 0.63187106, 0.99348917,\n",
              "        0.65449888, 0.99434305, 0.67616608, 0.99466325, 0.68662611,\n",
              "        0.99466325, 0.68491835, 0.99509019, 0.68235671, 0.99519693,\n",
              "        0.68257018, 0.99530366, 0.68950795, 0.99562387, 0.71277618,\n",
              "        0.9957306 , 0.75632405, 0.99615754, 0.78300779, 0.99647775,\n",
              "        0.85430676, 0.99669122, 0.89507952, 0.99690469]),\n",
              " 'split1_test_score': array([0.62227913, 0.75970977, 0.62227913, 0.72812633, 0.62227913,\n",
              "        0.71916347, 0.62441315, 0.7106274 , 0.63081519, 0.70849338,\n",
              "        0.65087495, 0.70849338, 0.66410585, 0.71318822, 0.67947076,\n",
              "        0.7106274 , 0.69654289, 0.71276142, 0.6978233 , 0.71190781,\n",
              "        0.69953052, 0.71190781, 0.70593257, 0.71190781, 0.72087068,\n",
              "        0.70892019, 0.74434486, 0.70593257, 0.75928297, 0.70507896,\n",
              "        0.78019633, 0.70422535, 0.77507469, 0.70379855]),\n",
              " 'split1_train_score': array([0.62237165, 0.96851318, 0.62237165, 0.98783221, 0.62269186,\n",
              "        0.99199488, 0.62375921, 0.99370264, 0.6280286 , 0.99444978,\n",
              "        0.64606682, 0.99487672, 0.65908848, 0.9954104 , 0.67200342,\n",
              "        0.99551713, 0.68224997, 0.99551713, 0.6820365 , 0.99562387,\n",
              "        0.68224997, 0.9957306 , 0.69121571, 0.99583734, 0.71064148,\n",
              "        0.99594407, 0.75717793, 0.99594407, 0.78535596, 0.99626428,\n",
              "        0.85366635, 0.99647775, 0.89283808, 0.99658448]),\n",
              " 'split2_test_score': array([0.62254483, 0.76216909, 0.62254483, 0.73911187, 0.62254483,\n",
              "        0.72587532, 0.62297182, 0.71947054, 0.63065756, 0.72374039,\n",
              "        0.6528608 , 0.72288642, 0.66353544, 0.72117848, 0.67976089,\n",
              "        0.72075149, 0.68146883, 0.71818958, 0.68061486, 0.71648164,\n",
              "        0.68104184, 0.71562767, 0.68701964, 0.71306576, 0.70452605,\n",
              "        0.71221178, 0.72843723, 0.71391973, 0.74039283, 0.71007686,\n",
              "        0.77284372, 0.705807  , 0.77198975, 0.70239112]),\n",
              " 'split2_train_score': array([0.62230523, 0.9678762 , 0.62230523, 0.986873  , 0.62273212,\n",
              "        0.99039488, 0.62465315, 0.9923159 , 0.63148346, 0.9927428 ,\n",
              "        0.65154749, 0.99348986, 0.66766275, 0.99359658, 0.68495197,\n",
              "        0.9941302 , 0.6864461 , 0.99423693, 0.68409819, 0.99434365,\n",
              "        0.68292423, 0.99445037, 0.69039488, 0.99477054, 0.71440768,\n",
              "        0.99498399, 0.75987193, 0.99509072, 0.78591249, 0.99530416,\n",
              "        0.85282818, 0.99605123, 0.89252935, 0.99626467]),\n",
              " 'split3_test_score': array([0.62254483, 0.75832622, 0.62254483, 0.73356106, 0.62297182,\n",
              "        0.72502135, 0.62510675, 0.72075149, 0.63023057, 0.7177626 ,\n",
              "        0.64859095, 0.71562767, 0.66609735, 0.7177626 , 0.67762596,\n",
              "        0.71818958, 0.67122118, 0.71690863, 0.67036721, 0.71648164,\n",
              "        0.67036721, 0.71733561, 0.67591802, 0.7177626 , 0.69043553,\n",
              "        0.71605465, 0.71947054, 0.70922289, 0.73356106, 0.70794193,\n",
              "        0.76088813, 0.70324509, 0.76857387, 0.69854825]),\n",
              " 'split3_train_score': array([0.62230523, 0.96840982, 0.62230523, 0.98740662, 0.6226254 ,\n",
              "        0.99135539, 0.62433298, 0.99242263, 0.63468517, 0.99284952,\n",
              "        0.65453575, 0.99327641, 0.67353255, 0.99370331, 0.68708645,\n",
              "        0.99423693, 0.68484525, 0.99434365, 0.68196371, 0.9945571 ,\n",
              "        0.68089648, 0.99466382, 0.68922092, 0.99498399, 0.71024546,\n",
              "        0.99519744, 0.75442903, 0.99541089, 0.78452508, 0.99551761,\n",
              "        0.85325507, 0.99573106, 0.89487727, 0.99583778]),\n",
              " 'split4_test_score': array([0.62211785, 0.76601196, 0.62211785, 0.72886422, 0.62297182,\n",
              "        0.72587532, 0.62467976, 0.71434671, 0.63279249, 0.71221178,\n",
              "        0.64474808, 0.70794193, 0.65798463, 0.70922289, 0.67335611,\n",
              "        0.70452605, 0.67378309, 0.70367208, 0.67292912, 0.70196413,\n",
              "        0.67335611, 0.70025619, 0.67463706, 0.70239112, 0.68701964,\n",
              "        0.70239112, 0.71733561, 0.705807  , 0.74252775, 0.70367208,\n",
              "        0.77455167, 0.69769428, 0.77924851, 0.69598634]),\n",
              " 'split4_train_score': array([0.62241195, 0.9696905 , 0.62241195, 0.98826041, 0.6226254 ,\n",
              "        0.99210245, 0.62518677, 0.99370331, 0.63713981, 0.99391676,\n",
              "        0.65442903, 0.9941302 , 0.67246531, 0.9945571 , 0.68655283,\n",
              "        0.99466382, 0.686873  , 0.99487727, 0.68569904, 0.99498399,\n",
              "        0.68559232, 0.99519744, 0.69306297, 0.99573106, 0.71771612,\n",
              "        0.99583778, 0.75731057, 0.99626467, 0.78527215, 0.99626467,\n",
              "        0.85272145, 0.9963714 , 0.89338314, 0.9963714 ]),\n",
              " 'std_fit_time': array([0.49345795, 0.06908124, 0.03624345, 0.23141492, 0.04147543,\n",
              "        0.25476777, 0.07088791, 0.26485728, 0.08425364, 0.40730192,\n",
              "        0.07754204, 0.35445001, 0.1062291 , 1.47052337, 0.08312699,\n",
              "        0.90487215, 0.0922493 , 1.21827148, 0.09260699, 1.07245967,\n",
              "        0.07770038, 0.97402205, 0.07548744, 0.99436795, 0.08001717,\n",
              "        0.48287876, 0.07234057, 1.85232733, 0.08804524, 1.4171917 ,\n",
              "        0.10514071, 4.10402845, 0.06201554, 3.71896532]),\n",
              " 'std_score_time': array([0.00792828, 0.00478388, 0.01657659, 0.00965127, 0.00607954,\n",
              "        0.00743798, 0.00845511, 0.00641036, 0.00450088, 0.00848998,\n",
              "        0.01034976, 0.0044461 , 0.00666345, 0.01023092, 0.00797615,\n",
              "        0.01027917, 0.00625048, 0.00639577, 0.01214655, 0.00526351,\n",
              "        0.00577853, 0.00724374, 0.00926832, 0.00228041, 0.00686858,\n",
              "        0.0084859 , 0.00911561, 0.0088081 , 0.01179718, 0.01160047,\n",
              "        0.0063112 , 0.01005293, 0.0113554 , 0.00954629]),\n",
              " 'std_test_score': array([0.00016722, 0.00282472, 0.00016722, 0.00393176, 0.00031146,\n",
              "        0.00253909, 0.00071879, 0.00367254, 0.00089121, 0.00515674,\n",
              "        0.0027005 , 0.00549623, 0.00380531, 0.00479494, 0.00280366,\n",
              "        0.00590943, 0.00888286, 0.00527681, 0.00969554, 0.00533625,\n",
              "        0.01025689, 0.00597372, 0.01143427, 0.00530253, 0.011956  ,\n",
              "        0.00467432, 0.0096273 , 0.00305086, 0.0085189 , 0.00299885,\n",
              "        0.00629266, 0.00289062, 0.00400146, 0.00287107]),\n",
              " 'std_train_score': array([4.17974704e-05, 5.98680464e-04, 4.17974704e-05, 5.78739888e-04,\n",
              "        6.60407544e-05, 6.13265692e-04, 4.62829850e-04, 5.97498056e-04,\n",
              "        3.08625261e-03, 6.43712472e-04, 3.27870860e-03, 5.80411727e-04,\n",
              "        6.01441238e-03, 6.70040826e-04, 5.76574355e-03, 4.88426587e-04,\n",
              "        1.62298922e-03, 4.75166489e-04, 1.45879758e-03, 4.55600866e-04,\n",
              "        1.53494817e-03, 4.59596966e-04, 1.38198623e-03, 4.28879590e-04,\n",
              "        2.73128774e-03, 3.78090279e-04, 1.75728934e-03, 4.50670273e-04,\n",
              "        1.00559960e-03, 4.64573254e-04, 5.81668224e-04, 3.37352748e-04,\n",
              "        1.04825145e-03, 3.53182522e-04])}"
            ]
          },
          "metadata": {},
          "execution_count": 19
        }
      ]
    },
    {
      "cell_type": "code",
      "source": [
        "dataset = pd.DataFrame(clf.cv_results_)\n",
        "dataset.head()"
      ],
      "metadata": {
        "colab": {
          "base_uri": "https://localhost:8080/",
          "height": 186
        },
        "id": "GUyTp08yZTP_",
        "outputId": "c9a6fb97-1232-42b8-d02c-b83178c22990"
      },
      "execution_count": 4,
      "outputs": [
        {
          "output_type": "error",
          "ename": "NameError",
          "evalue": "ignored",
          "traceback": [
            "\u001b[0;31m---------------------------------------------------------------------------\u001b[0m",
            "\u001b[0;31mNameError\u001b[0m                                 Traceback (most recent call last)",
            "\u001b[0;32m<ipython-input-4-6bc5a0e4aa00>\u001b[0m in \u001b[0;36m<module>\u001b[0;34m()\u001b[0m\n\u001b[0;32m----> 1\u001b[0;31m \u001b[0mdataset\u001b[0m \u001b[0;34m=\u001b[0m \u001b[0mpd\u001b[0m\u001b[0;34m.\u001b[0m\u001b[0mDataFrame\u001b[0m\u001b[0;34m(\u001b[0m\u001b[0mclf\u001b[0m\u001b[0;34m.\u001b[0m\u001b[0mcv_results_\u001b[0m\u001b[0;34m)\u001b[0m\u001b[0;34m\u001b[0m\u001b[0;34m\u001b[0m\u001b[0m\n\u001b[0m\u001b[1;32m      2\u001b[0m \u001b[0mdataset\u001b[0m\u001b[0;34m.\u001b[0m\u001b[0mhead\u001b[0m\u001b[0;34m(\u001b[0m\u001b[0;34m)\u001b[0m\u001b[0;34m\u001b[0m\u001b[0;34m\u001b[0m\u001b[0m\n",
            "\u001b[0;31mNameError\u001b[0m: name 'pd' is not defined"
          ]
        }
      ]
    },
    {
      "cell_type": "code",
      "source": [
        "dataset[['param_C','param_kernel','mean_test_score','mean_train_score']]"
      ],
      "metadata": {
        "colab": {
          "base_uri": "https://localhost:8080/",
          "height": 168
        },
        "id": "G9HRk4jfZbTo",
        "outputId": "f4189c06-1da9-4a83-aa0f-ebaf82d8a098"
      },
      "execution_count": 3,
      "outputs": [
        {
          "output_type": "error",
          "ename": "NameError",
          "evalue": "ignored",
          "traceback": [
            "\u001b[0;31m---------------------------------------------------------------------------\u001b[0m",
            "\u001b[0;31mNameError\u001b[0m                                 Traceback (most recent call last)",
            "\u001b[0;32m<ipython-input-3-72ed728b569f>\u001b[0m in \u001b[0;36m<module>\u001b[0;34m()\u001b[0m\n\u001b[0;32m----> 1\u001b[0;31m \u001b[0mdataset\u001b[0m\u001b[0;34m[\u001b[0m\u001b[0;34m[\u001b[0m\u001b[0;34m'param_C'\u001b[0m\u001b[0;34m,\u001b[0m\u001b[0;34m'param_kernel'\u001b[0m\u001b[0;34m,\u001b[0m\u001b[0;34m'mean_test_score'\u001b[0m\u001b[0;34m,\u001b[0m\u001b[0;34m'mean_train_score'\u001b[0m\u001b[0;34m]\u001b[0m\u001b[0;34m]\u001b[0m\u001b[0;34m\u001b[0m\u001b[0;34m\u001b[0m\u001b[0m\n\u001b[0m",
            "\u001b[0;31mNameError\u001b[0m: name 'dataset' is not defined"
          ]
        }
      ]
    },
    {
      "cell_type": "code",
      "source": [
        "from sklearn.linear_model import LogisticRegression\n",
        "\n",
        "clf = GridSearchCV(LogisticRegression(solver='liblinear',multi_class='auto'), {\n",
        "    'C': [1000],\n",
        "}, cv=5, return_train_score=True)\n",
        "clf.fit(X_train, y_train)\n",
        "pred_LR1 = clf.predict(X_test)\n",
        "accuracy = accuracy_score(pred_1, y_test)\n",
        "print(\"Accuracy using RandomForest: \", accuracy)"
      ],
      "metadata": {
        "colab": {
          "base_uri": "https://localhost:8080/"
        },
        "outputId": "a60546b2-edb7-4c21-87d8-64af39737f63",
        "id": "GysH6Ba2y6oT"
      },
      "execution_count": 33,
      "outputs": [
        {
          "output_type": "stream",
          "name": "stdout",
          "text": [
            "Accuracy using RandomForest:  0.7329234972677595\n"
          ]
        }
      ]
    },
    {
      "cell_type": "code",
      "source": [
        "cr = classification_report(y_test, pred_LR1)\n",
        "\n",
        "print(\"Classification Report:\\n----------------------\\n\", cr)\n",
        "\n",
        "cm = confusion_matrix(y_test,pred_LR1)\n",
        "\n",
        "\n",
        "# plot confusion matrix \n",
        "plt.figure(figsize=(8,6))\n",
        "sentiment_classes = ['Negative', 'Neutral', 'Positive']\n",
        "sns.heatmap(cm, cmap=plt.cm.Blues, annot=True, fmt='d', \n",
        "            xticklabels=sentiment_classes,\n",
        "            yticklabels=sentiment_classes)\n",
        "plt.title('Confusion matrix', fontsize=16)\n",
        "plt.xlabel('Actual label', fontsize=12)\n",
        "plt.ylabel('Predicted label', fontsize=12)\n",
        "plt.show()"
      ],
      "metadata": {
        "colab": {
          "base_uri": "https://localhost:8080/",
          "height": 620
        },
        "outputId": "e9205981-2c7c-4210-f7f8-c494b978abf4",
        "id": "cIg9bUy7y6oW"
      },
      "execution_count": 34,
      "outputs": [
        {
          "output_type": "stream",
          "name": "stdout",
          "text": [
            "Classification Report:\n",
            "----------------------\n",
            "               precision    recall  f1-score   support\n",
            "\n",
            "          -1       0.84      0.82      0.83      1889\n",
            "           0       0.48      0.53      0.50       580\n",
            "           1       0.64      0.65      0.65       459\n",
            "\n",
            "    accuracy                           0.73      2928\n",
            "   macro avg       0.66      0.66      0.66      2928\n",
            "weighted avg       0.74      0.73      0.74      2928\n",
            "\n"
          ]
        },
        {
          "output_type": "display_data",
          "data": {
            "text/plain": [
              "<Figure size 576x432 with 2 Axes>"
            ],
            "image/png": "[encoded data removed]"
          },
          "metadata": {
            "image/png": {
              "width": 475,
              "height": 391
            },
            "needs_background": "light"
          }
        }
      ]
    },
    {
      "cell_type": "code",
      "source": [
        "from sklearn.linear_model import LogisticRegression\n",
        "\n",
        "clf = GridSearchCV(LogisticRegression(solver='liblinear',multi_class='auto'), {\n",
        "    'C': [1,5,10,15,20,25,30,35,40,45,50,75,100,150,200,500,1000],\n",
        "}, cv=5, return_train_score=True)\n",
        "clf.fit(X_train, y_train)\n",
        "clf.cv_results_"
      ],
      "metadata": {
        "colab": {
          "base_uri": "https://localhost:8080/"
        },
        "id": "XYnC6GW4X1pg",
        "outputId": "7a6e50c9-dc26-42e2-9ac7-6e36271ec551"
      },
      "execution_count": 22,
      "outputs": [
        {
          "output_type": "execute_result",
          "data": {
            "text/plain": [
              "{'mean_fit_time': array([0.29472375, 0.41456361, 0.4946701 , 0.55647168, 0.58050942,\n",
              "        0.65724459, 0.69385409, 0.74185734, 0.7498385 , 0.78773823,\n",
              "        0.80548959, 0.93391533, 0.90018563, 1.02484794, 1.06494875,\n",
              "        1.24072218, 1.45899138]),\n",
              " 'mean_score_time': array([0.00147867, 0.00145626, 0.0014833 , 0.00143957, 0.00145988,\n",
              "        0.00144196, 0.00141773, 0.00146041, 0.00146394, 0.00146422,\n",
              "        0.00145383, 0.00148683, 0.00145445, 0.00144029, 0.00143218,\n",
              "        0.00146651, 0.00142474]),\n",
              " 'mean_test_score': array([0.78278689, 0.77066236, 0.76400266, 0.75802596, 0.75648918,\n",
              "        0.75503757, 0.75153706, 0.75068301, 0.74965843, 0.7476947 ,\n",
              "        0.74675551, 0.74265714, 0.73898547, 0.73556995, 0.73206925,\n",
              "        0.7213968 , 0.71439526]),\n",
              " 'mean_train_score': array([0.93081885, 0.97412913, 0.98209104, 0.98482328, 0.9865736 ,\n",
              "        0.98764088, 0.98853741, 0.98911374, 0.98962604, 0.99015968,\n",
              "        0.99052256, 0.99148311, 0.99248636, 0.99319076, 0.9937244 ,\n",
              "        0.9949411 , 0.9954534 ]),\n",
              " 'param_C': masked_array(data=[1, 5, 10, 15, 20, 25, 30, 35, 40, 45, 50, 75, 100, 150,\n",
              "                    200, 500, 1000],\n",
              "              mask=[False, False, False, False, False, False, False, False,\n",
              "                    False, False, False, False, False, False, False, False,\n",
              "                    False],\n",
              "        fill_value='?',\n",
              "             dtype=object),\n",
              " 'params': [{'C': 1},\n",
              "  {'C': 5},\n",
              "  {'C': 10},\n",
              "  {'C': 15},\n",
              "  {'C': 20},\n",
              "  {'C': 25},\n",
              "  {'C': 30},\n",
              "  {'C': 35},\n",
              "  {'C': 40},\n",
              "  {'C': 45},\n",
              "  {'C': 50},\n",
              "  {'C': 75},\n",
              "  {'C': 100},\n",
              "  {'C': 150},\n",
              "  {'C': 200},\n",
              "  {'C': 500},\n",
              "  {'C': 1000}],\n",
              " 'rank_test_score': array([ 1,  2,  3,  4,  5,  6,  7,  8,  9, 10, 11, 12, 13, 14, 15, 16, 17],\n",
              "       dtype=int32),\n",
              " 'split0_test_score': array([0.78830559, 0.77550149, 0.77037985, 0.76440461, 0.76056338,\n",
              "        0.75885617, 0.75544174, 0.75714895, 0.75416133, 0.75117371,\n",
              "        0.7503201 , 0.74647887, 0.74306445, 0.74221084, 0.74093043,\n",
              "        0.72513871, 0.71788306]),\n",
              " 'split0_train_score': array([0.93147614, 0.9758779 , 0.98270893, 0.98601772, 0.98676486,\n",
              "        0.98783221, 0.98879283, 0.98921977, 0.98964671, 0.99018038,\n",
              "        0.99050059, 0.99167467, 0.99263529, 0.99348917, 0.99402284,\n",
              "        0.99498346, 0.99551713]),\n",
              " 'split1_test_score': array([0.77720871, 0.76824584, 0.75842936, 0.75160051, 0.75117371,\n",
              "        0.75117371, 0.74562527, 0.74477166, 0.74562527, 0.74391805,\n",
              "        0.74263764, 0.73836961, 0.7370892 , 0.73367478, 0.72812633,\n",
              "        0.71830986, 0.71361502]),\n",
              " 'split1_train_score': array([0.93158288, 0.97384993, 0.98228199, 0.98484363, 0.98644466,\n",
              "        0.98751201, 0.9890063 , 0.98953997, 0.99028712, 0.99092753,\n",
              "        0.99135447, 0.99199488, 0.99316896, 0.99380937, 0.99434305,\n",
              "        0.99551713, 0.99605081]),\n",
              " 'split2_test_score': array([0.78437233, 0.76942784, 0.76259607, 0.75661827, 0.75747225,\n",
              "        0.75491033, 0.75106746, 0.74807857, 0.74893254, 0.74893254,\n",
              "        0.74722459, 0.74551665, 0.74295474, 0.73783091, 0.73740393,\n",
              "        0.72160547, 0.71562767]),\n",
              " 'split2_train_score': array([0.92934899, 0.97299893, 0.98078975, 0.98313767, 0.98559232,\n",
              "        0.98665955, 0.98783351, 0.98858058, 0.98932764, 0.98964781,\n",
              "        0.99007471, 0.99060832, 0.99156884, 0.9923159 , 0.99284952,\n",
              "        0.99423693, 0.99498399]),\n",
              " 'split3_test_score': array([0.78010248, 0.7707088 , 0.764731  , 0.75960717, 0.75619129,\n",
              "        0.75491033, 0.75277541, 0.75362938, 0.75064048, 0.74722459,\n",
              "        0.74637062, 0.74039283, 0.73313407, 0.73057216, 0.72672929,\n",
              "        0.72245944, 0.71434671]),\n",
              " 'split3_train_score': array([0.93041622, 0.97385272, 0.98185699, 0.98452508, 0.9864461 ,\n",
              "        0.98772679, 0.98794023, 0.98858058, 0.9886873 , 0.98943436,\n",
              "        0.98964781, 0.99103522, 0.99210245, 0.99242263, 0.99327641,\n",
              "        0.99466382, 0.99487727]),\n",
              " 'split4_test_score': array([0.78394535, 0.76942784, 0.76387703, 0.75789923, 0.75704526,\n",
              "        0.75533732, 0.75277541, 0.74978651, 0.74893254, 0.74722459,\n",
              "        0.74722459, 0.74252775, 0.73868488, 0.73356106, 0.72715628,\n",
              "        0.71947054, 0.71050384]),\n",
              " 'split4_train_score': array([0.93127001, 0.97406617, 0.9828175 , 0.98559232, 0.98762006,\n",
              "        0.98847385, 0.98911419, 0.98964781, 0.99018143, 0.99060832,\n",
              "        0.99103522, 0.99210245, 0.99295624, 0.99391676, 0.9941302 ,\n",
              "        0.99530416, 0.99583778]),\n",
              " 'std_fit_time': array([0.01746621, 0.02119265, 0.02454463, 0.04271366, 0.0285218 ,\n",
              "        0.06744738, 0.04923075, 0.05013319, 0.06013665, 0.06718324,\n",
              "        0.05168239, 0.06969101, 0.03140719, 0.0481199 , 0.04569007,\n",
              "        0.05430874, 0.11474731]),\n",
              " 'std_score_time': array([8.38612739e-05, 4.25805170e-05, 8.05693390e-05, 1.75609486e-05,\n",
              "        4.56483860e-05, 3.28758386e-05, 2.17097627e-05, 7.47282484e-05,\n",
              "        1.08344013e-04, 5.44339640e-05, 2.48808493e-05, 6.45409971e-05,\n",
              "        3.32559649e-05, 3.60600515e-05, 3.30544811e-05, 1.08163759e-04,\n",
              "        2.35730274e-05]),\n",
              " 'std_test_score': array([0.0038114 , 0.00254193, 0.0038537 , 0.00415864, 0.00304032,\n",
              "        0.00243447, 0.00327058, 0.00431325, 0.00277708, 0.00238079,\n",
              "        0.00245973, 0.00304333, 0.00375015, 0.00404521, 0.00591909,\n",
              "        0.00238388, 0.00242643]),\n",
              " 'std_train_score': array([0.00084166, 0.00094803, 0.00073405, 0.00099486, 0.0006523 ,\n",
              "        0.00058608, 0.00054219, 0.00045753, 0.00058586, 0.00056203,\n",
              "        0.00061986, 0.00057412, 0.00058278, 0.00068618, 0.00056614,\n",
              "        0.00045567, 0.00046065])}"
            ]
          },
          "metadata": {},
          "execution_count": 22
        }
      ]
    },
    {
      "cell_type": "code",
      "source": [
        "dataset = pd.DataFrame(clf.cv_results_)\n",
        "dataset.head()"
      ],
      "metadata": {
        "colab": {
          "base_uri": "https://localhost:8080/",
          "height": 351
        },
        "id": "ih9Sx5VwZ0v3",
        "outputId": "4697bcb1-d54e-45c3-d20f-bfad9d59cf8d"
      },
      "execution_count": 23,
      "outputs": [
        {
          "output_type": "execute_result",
          "data": {
            "text/plain": [
              "   mean_fit_time  std_fit_time  mean_score_time  std_score_time param_C  \\\n",
              "0       0.294724      0.017466         0.001479        0.000084       1   \n",
              "1       0.414564      0.021193         0.001456        0.000043       5   \n",
              "2       0.494670      0.024545         0.001483        0.000081      10   \n",
              "3       0.556472      0.042714         0.001440        0.000018      15   \n",
              "4       0.580509      0.028522         0.001460        0.000046      20   \n",
              "\n",
              "      params  split0_test_score  split1_test_score  split2_test_score  \\\n",
              "0   {'C': 1}           0.788306           0.777209           0.784372   \n",
              "1   {'C': 5}           0.775501           0.768246           0.769428   \n",
              "2  {'C': 10}           0.770380           0.758429           0.762596   \n",
              "3  {'C': 15}           0.764405           0.751601           0.756618   \n",
              "4  {'C': 20}           0.760563           0.751174           0.757472   \n",
              "\n",
              "   split3_test_score  ...  mean_test_score  std_test_score  rank_test_score  \\\n",
              "0           0.780102  ...         0.782787        0.003811                1   \n",
              "1           0.770709  ...         0.770662        0.002542                2   \n",
              "2           0.764731  ...         0.764003        0.003854                3   \n",
              "3           0.759607  ...         0.758026        0.004159                4   \n",
              "4           0.756191  ...         0.756489        0.003040                5   \n",
              "\n",
              "   split0_train_score  split1_train_score  split2_train_score  \\\n",
              "0            0.931476            0.931583            0.929349   \n",
              "1            0.975878            0.973850            0.972999   \n",
              "2            0.982709            0.982282            0.980790   \n",
              "3            0.986018            0.984844            0.983138   \n",
              "4            0.986765            0.986445            0.985592   \n",
              "\n",
              "   split3_train_score  split4_train_score  mean_train_score  std_train_score  \n",
              "0            0.930416            0.931270          0.930819         0.000842  \n",
              "1            0.973853            0.974066          0.974129         0.000948  \n",
              "2            0.981857            0.982818          0.982091         0.000734  \n",
              "3            0.984525            0.985592          0.984823         0.000995  \n",
              "4            0.986446            0.987620          0.986574         0.000652  \n",
              "\n",
              "[5 rows x 21 columns]"
            ],
            "text/html": [
              "\n",
              "  <div id=\"df-bc30535f-cd7a-463a-baa0-31a2230ecbcf\">\n",
              "    <div class=\"colab-df-container\">\n",
              "      <div>\n",
              "<style scoped>\n",
              "    .dataframe tbody tr th:only-of-type {\n",
              "        vertical-align: middle;\n",
              "    }\n",
              "\n",
              "    .dataframe tbody tr th {\n",
              "        vertical-align: top;\n",
              "    }\n",
              "\n",
              "    .dataframe thead th {\n",
              "        text-align: right;\n",
              "    }\n",
              "</style>\n",
              "<table border=\"1\" class=\"dataframe\">\n",
              "  <thead>\n",
              "    <tr style=\"text-align: right;\">\n",
              "      <th></th>\n",
              "      <th>mean_fit_time</th>\n",
              "      <th>std_fit_time</th>\n",
              "      <th>mean_score_time</th>\n",
              "      <th>std_score_time</th>\n",
              "      <th>param_C</th>\n",
              "      <th>params</th>\n",
              "      <th>split0_test_score</th>\n",
              "      <th>split1_test_score</th>\n",
              "      <th>split2_test_score</th>\n",
              "      <th>split3_test_score</th>\n",
              "      <th>...</th>\n",
              "      <th>mean_test_score</th>\n",
              "      <th>std_test_score</th>\n",
              "      <th>rank_test_score</th>\n",
              "      <th>split0_train_score</th>\n",
              "      <th>split1_train_score</th>\n",
              "      <th>split2_train_score</th>\n",
              "      <th>split3_train_score</th>\n",
              "      <th>split4_train_score</th>\n",
              "      <th>mean_train_score</th>\n",
              "      <th>std_train_score</th>\n",
              "    </tr>\n",
              "  </thead>\n",
              "  <tbody>\n",
              "    <tr>\n",
              "      <th>0</th>\n",
              "      <td>0.294724</td>\n",
              "      <td>0.017466</td>\n",
              "      <td>0.001479</td>\n",
              "      <td>0.000084</td>\n",
              "      <td>1</td>\n",
              "      <td>{'C': 1}</td>\n",
              "      <td>0.788306</td>\n",
              "      <td>0.777209</td>\n",
              "      <td>0.784372</td>\n",
              "      <td>0.780102</td>\n",
              "      <td>...</td>\n",
              "      <td>0.782787</td>\n",
              "      <td>0.003811</td>\n",
              "      <td>1</td>\n",
              "      <td>0.931476</td>\n",
              "      <td>0.931583</td>\n",
              "      <td>0.929349</td>\n",
              "      <td>0.930416</td>\n",
              "      <td>0.931270</td>\n",
              "      <td>0.930819</td>\n",
              "      <td>0.000842</td>\n",
              "    </tr>\n",
              "    <tr>\n",
              "      <th>1</th>\n",
              "      <td>0.414564</td>\n",
              "      <td>0.021193</td>\n",
              "      <td>0.001456</td>\n",
              "      <td>0.000043</td>\n",
              "      <td>5</td>\n",
              "      <td>{'C': 5}</td>\n",
              "      <td>0.775501</td>\n",
              "      <td>0.768246</td>\n",
              "      <td>0.769428</td>\n",
              "      <td>0.770709</td>\n",
              "      <td>...</td>\n",
              "      <td>0.770662</td>\n",
              "      <td>0.002542</td>\n",
              "      <td>2</td>\n",
              "      <td>0.975878</td>\n",
              "      <td>0.973850</td>\n",
              "      <td>0.972999</td>\n",
              "      <td>0.973853</td>\n",
              "      <td>0.974066</td>\n",
              "      <td>0.974129</td>\n",
              "      <td>0.000948</td>\n",
              "    </tr>\n",
              "    <tr>\n",
              "      <th>2</th>\n",
              "      <td>0.494670</td>\n",
              "      <td>0.024545</td>\n",
              "      <td>0.001483</td>\n",
              "      <td>0.000081</td>\n",
              "      <td>10</td>\n",
              "      <td>{'C': 10}</td>\n",
              "      <td>0.770380</td>\n",
              "      <td>0.758429</td>\n",
              "      <td>0.762596</td>\n",
              "      <td>0.764731</td>\n",
              "      <td>...</td>\n",
              "      <td>0.764003</td>\n",
              "      <td>0.003854</td>\n",
              "      <td>3</td>\n",
              "      <td>0.982709</td>\n",
              "      <td>0.982282</td>\n",
              "      <td>0.980790</td>\n",
              "      <td>0.981857</td>\n",
              "      <td>0.982818</td>\n",
              "      <td>0.982091</td>\n",
              "      <td>0.000734</td>\n",
              "    </tr>\n",
              "    <tr>\n",
              "      <th>3</th>\n",
              "      <td>0.556472</td>\n",
              "      <td>0.042714</td>\n",
              "      <td>0.001440</td>\n",
              "      <td>0.000018</td>\n",
              "      <td>15</td>\n",
              "      <td>{'C': 15}</td>\n",
              "      <td>0.764405</td>\n",
              "      <td>0.751601</td>\n",
              "      <td>0.756618</td>\n",
              "      <td>0.759607</td>\n",
              "      <td>...</td>\n",
              "      <td>0.758026</td>\n",
              "      <td>0.004159</td>\n",
              "      <td>4</td>\n",
              "      <td>0.986018</td>\n",
              "      <td>0.984844</td>\n",
              "      <td>0.983138</td>\n",
              "      <td>0.984525</td>\n",
              "      <td>0.985592</td>\n",
              "      <td>0.984823</td>\n",
              "      <td>0.000995</td>\n",
              "    </tr>\n",
              "    <tr>\n",
              "      <th>4</th>\n",
              "      <td>0.580509</td>\n",
              "      <td>0.028522</td>\n",
              "      <td>0.001460</td>\n",
              "      <td>0.000046</td>\n",
              "      <td>20</td>\n",
              "      <td>{'C': 20}</td>\n",
              "      <td>0.760563</td>\n",
              "      <td>0.751174</td>\n",
              "      <td>0.757472</td>\n",
              "      <td>0.756191</td>\n",
              "      <td>...</td>\n",
              "      <td>0.756489</td>\n",
              "      <td>0.003040</td>\n",
              "      <td>5</td>\n",
              "      <td>0.986765</td>\n",
              "      <td>0.986445</td>\n",
              "      <td>0.985592</td>\n",
              "      <td>0.986446</td>\n",
              "      <td>0.987620</td>\n",
              "      <td>0.986574</td>\n",
              "      <td>0.000652</td>\n",
              "    </tr>\n",
              "  </tbody>\n",
              "</table>\n",
              "<p>5 rows × 21 columns</p>\n",
              "</div>\n",
              "      <button class=\"colab-df-convert\" onclick=\"convertToInteractive('df-bc30535f-cd7a-463a-baa0-31a2230ecbcf')\"\n",
              "              title=\"Convert this dataframe to an interactive table.\"\n",
              "              style=\"display:none;\">\n",
              "        \n",
              "  <svg xmlns=\"http://www.w3.org/2000/svg\" height=\"24px\"viewBox=\"0 0 24 24\"\n",
              "       width=\"24px\">\n",
              "    <path d=\"M0 0h24v24H0V0z\" fill=\"none\"/>\n",
              "    <path d=\"M18.56 5.44l.94 2.06.94-2.06 2.06-.94-2.06-.94-.94-2.06-.94 2.06-2.06.94zm-11 1L8.5 8.5l.94-2.06 2.06-.94-2.06-.94L8.5 2.5l-.94 2.06-2.06.94zm10 10l.94 2.06.94-2.06 2.06-.94-2.06-.94-.94-2.06-.94 2.06-2.06.94z\"/><path d=\"M17.41 7.96l-1.37-1.37c-.4-.4-.92-.59-1.43-.59-.52 0-1.04.2-1.43.59L10.3 9.45l-7.72 7.72c-.78.78-.78 2.05 0 2.83L4 21.41c.39.39.9.59 1.41.59.51 0 1.02-.2 1.41-.59l7.78-7.78 2.81-2.81c.8-.78.8-2.07 0-2.86zM5.41 20L4 18.59l7.72-7.72 1.47 1.35L5.41 20z\"/>\n",
              "  </svg>\n",
              "      </button>\n",
              "      \n",
              "  <style>\n",
              "    .colab-df-container {\n",
              "      display:flex;\n",
              "      flex-wrap:wrap;\n",
              "      gap: 12px;\n",
              "    }\n",
              "\n",
              "    .colab-df-convert {\n",
              "      background-color: #E8F0FE;\n",
              "      border: none;\n",
              "      border-radius: 50%;\n",
              "      cursor: pointer;\n",
              "      display: none;\n",
              "      fill: #1967D2;\n",
              "      height: 32px;\n",
              "      padding: 0 0 0 0;\n",
              "      width: 32px;\n",
              "    }\n",
              "\n",
              "    .colab-df-convert:hover {\n",
              "      background-color: #E2EBFA;\n",
              "      box-shadow: 0px 1px 2px rgba(60, 64, 67, 0.3), 0px 1px 3px 1px rgba(60, 64, 67, 0.15);\n",
              "      fill: #174EA6;\n",
              "    }\n",
              "\n",
              "    [theme=dark] .colab-df-convert {\n",
              "      background-color: #3B4455;\n",
              "      fill: #D2E3FC;\n",
              "    }\n",
              "\n",
              "    [theme=dark] .colab-df-convert:hover {\n",
              "      background-color: #434B5C;\n",
              "      box-shadow: 0px 1px 3px 1px rgba(0, 0, 0, 0.15);\n",
              "      filter: drop-shadow(0px 1px 2px rgba(0, 0, 0, 0.3));\n",
              "      fill: #FFFFFF;\n",
              "    }\n",
              "  </style>\n",
              "\n",
              "      <script>\n",
              "        const buttonEl =\n",
              "          document.querySelector('#df-bc30535f-cd7a-463a-baa0-31a2230ecbcf button.colab-df-convert');\n",
              "        buttonEl.style.display =\n",
              "          google.colab.kernel.accessAllowed ? 'block' : 'none';\n",
              "\n",
              "        async function convertToInteractive(key) {\n",
              "          const element = document.querySelector('#df-bc30535f-cd7a-463a-baa0-31a2230ecbcf');\n",
              "          const dataTable =\n",
              "            await google.colab.kernel.invokeFunction('convertToInteractive',\n",
              "                                                     [key], {});\n",
              "          if (!dataTable) return;\n",
              "\n",
              "          const docLinkHtml = 'Like what you see? Visit the ' +\n",
              "            '<a target=\"_blank\" href=https://colab.research.google.com/notebooks/data_table.ipynb>data table notebook</a>'\n",
              "            + ' to learn more about interactive tables.';\n",
              "          element.innerHTML = '';\n",
              "          dataTable['output_type'] = 'display_data';\n",
              "          await google.colab.output.renderOutput(dataTable, element);\n",
              "          const docLink = document.createElement('div');\n",
              "          docLink.innerHTML = docLinkHtml;\n",
              "          element.appendChild(docLink);\n",
              "        }\n",
              "      </script>\n",
              "    </div>\n",
              "  </div>\n",
              "  "
            ]
          },
          "metadata": {},
          "execution_count": 23
        }
      ]
    },
    {
      "cell_type": "code",
      "source": [
        "dataset[['param_C','mean_test_score','mean_train_score']]"
      ],
      "metadata": {
        "colab": {
          "base_uri": "https://localhost:8080/",
          "height": 582
        },
        "id": "2P0_kNUhZ28n",
        "outputId": "36f394e0-0000-4f42-c149-ef847882f172"
      },
      "execution_count": 24,
      "outputs": [
        {
          "output_type": "execute_result",
          "data": {
            "text/plain": [
              "   param_C  mean_test_score  mean_train_score\n",
              "0        1         0.782787          0.930819\n",
              "1        5         0.770662          0.974129\n",
              "2       10         0.764003          0.982091\n",
              "3       15         0.758026          0.984823\n",
              "4       20         0.756489          0.986574\n",
              "5       25         0.755038          0.987641\n",
              "6       30         0.751537          0.988537\n",
              "7       35         0.750683          0.989114\n",
              "8       40         0.749658          0.989626\n",
              "9       45         0.747695          0.990160\n",
              "10      50         0.746756          0.990523\n",
              "11      75         0.742657          0.991483\n",
              "12     100         0.738985          0.992486\n",
              "13     150         0.735570          0.993191\n",
              "14     200         0.732069          0.993724\n",
              "15     500         0.721397          0.994941\n",
              "16    1000         0.714395          0.995453"
            ],
            "text/html": [
              "\n",
              "  <div id=\"df-92a1dd79-86de-493b-8c95-a6c8c5fd3b9a\">\n",
              "    <div class=\"colab-df-container\">\n",
              "      <div>\n",
              "<style scoped>\n",
              "    .dataframe tbody tr th:only-of-type {\n",
              "        vertical-align: middle;\n",
              "    }\n",
              "\n",
              "    .dataframe tbody tr th {\n",
              "        vertical-align: top;\n",
              "    }\n",
              "\n",
              "    .dataframe thead th {\n",
              "        text-align: right;\n",
              "    }\n",
              "</style>\n",
              "<table border=\"1\" class=\"dataframe\">\n",
              "  <thead>\n",
              "    <tr style=\"text-align: right;\">\n",
              "      <th></th>\n",
              "      <th>param_C</th>\n",
              "      <th>mean_test_score</th>\n",
              "      <th>mean_train_score</th>\n",
              "    </tr>\n",
              "  </thead>\n",
              "  <tbody>\n",
              "    <tr>\n",
              "      <th>0</th>\n",
              "      <td>1</td>\n",
              "      <td>0.782787</td>\n",
              "      <td>0.930819</td>\n",
              "    </tr>\n",
              "    <tr>\n",
              "      <th>1</th>\n",
              "      <td>5</td>\n",
              "      <td>0.770662</td>\n",
              "      <td>0.974129</td>\n",
              "    </tr>\n",
              "    <tr>\n",
              "      <th>2</th>\n",
              "      <td>10</td>\n",
              "      <td>0.764003</td>\n",
              "      <td>0.982091</td>\n",
              "    </tr>\n",
              "    <tr>\n",
              "      <th>3</th>\n",
              "      <td>15</td>\n",
              "      <td>0.758026</td>\n",
              "      <td>0.984823</td>\n",
              "    </tr>\n",
              "    <tr>\n",
              "      <th>4</th>\n",
              "      <td>20</td>\n",
              "      <td>0.756489</td>\n",
              "      <td>0.986574</td>\n",
              "    </tr>\n",
              "    <tr>\n",
              "      <th>5</th>\n",
              "      <td>25</td>\n",
              "      <td>0.755038</td>\n",
              "      <td>0.987641</td>\n",
              "    </tr>\n",
              "    <tr>\n",
              "      <th>6</th>\n",
              "      <td>30</td>\n",
              "      <td>0.751537</td>\n",
              "      <td>0.988537</td>\n",
              "    </tr>\n",
              "    <tr>\n",
              "      <th>7</th>\n",
              "      <td>35</td>\n",
              "      <td>0.750683</td>\n",
              "      <td>0.989114</td>\n",
              "    </tr>\n",
              "    <tr>\n",
              "      <th>8</th>\n",
              "      <td>40</td>\n",
              "      <td>0.749658</td>\n",
              "      <td>0.989626</td>\n",
              "    </tr>\n",
              "    <tr>\n",
              "      <th>9</th>\n",
              "      <td>45</td>\n",
              "      <td>0.747695</td>\n",
              "      <td>0.990160</td>\n",
              "    </tr>\n",
              "    <tr>\n",
              "      <th>10</th>\n",
              "      <td>50</td>\n",
              "      <td>0.746756</td>\n",
              "      <td>0.990523</td>\n",
              "    </tr>\n",
              "    <tr>\n",
              "      <th>11</th>\n",
              "      <td>75</td>\n",
              "      <td>0.742657</td>\n",
              "      <td>0.991483</td>\n",
              "    </tr>\n",
              "    <tr>\n",
              "      <th>12</th>\n",
              "      <td>100</td>\n",
              "      <td>0.738985</td>\n",
              "      <td>0.992486</td>\n",
              "    </tr>\n",
              "    <tr>\n",
              "      <th>13</th>\n",
              "      <td>150</td>\n",
              "      <td>0.735570</td>\n",
              "      <td>0.993191</td>\n",
              "    </tr>\n",
              "    <tr>\n",
              "      <th>14</th>\n",
              "      <td>200</td>\n",
              "      <td>0.732069</td>\n",
              "      <td>0.993724</td>\n",
              "    </tr>\n",
              "    <tr>\n",
              "      <th>15</th>\n",
              "      <td>500</td>\n",
              "      <td>0.721397</td>\n",
              "      <td>0.994941</td>\n",
              "    </tr>\n",
              "    <tr>\n",
              "      <th>16</th>\n",
              "      <td>1000</td>\n",
              "      <td>0.714395</td>\n",
              "      <td>0.995453</td>\n",
              "    </tr>\n",
              "  </tbody>\n",
              "</table>\n",
              "</div>\n",
              "      <button class=\"colab-df-convert\" onclick=\"convertToInteractive('df-92a1dd79-86de-493b-8c95-a6c8c5fd3b9a')\"\n",
              "              title=\"Convert this dataframe to an interactive table.\"\n",
              "              style=\"display:none;\">\n",
              "        \n",
              "  <svg xmlns=\"http://www.w3.org/2000/svg\" height=\"24px\"viewBox=\"0 0 24 24\"\n",
              "       width=\"24px\">\n",
              "    <path d=\"M0 0h24v24H0V0z\" fill=\"none\"/>\n",
              "    <path d=\"M18.56 5.44l.94 2.06.94-2.06 2.06-.94-2.06-.94-.94-2.06-.94 2.06-2.06.94zm-11 1L8.5 8.5l.94-2.06 2.06-.94-2.06-.94L8.5 2.5l-.94 2.06-2.06.94zm10 10l.94 2.06.94-2.06 2.06-.94-2.06-.94-.94-2.06-.94 2.06-2.06.94z\"/><path d=\"M17.41 7.96l-1.37-1.37c-.4-.4-.92-.59-1.43-.59-.52 0-1.04.2-1.43.59L10.3 9.45l-7.72 7.72c-.78.78-.78 2.05 0 2.83L4 21.41c.39.39.9.59 1.41.59.51 0 1.02-.2 1.41-.59l7.78-7.78 2.81-2.81c.8-.78.8-2.07 0-2.86zM5.41 20L4 18.59l7.72-7.72 1.47 1.35L5.41 20z\"/>\n",
              "  </svg>\n",
              "      </button>\n",
              "      \n",
              "  <style>\n",
              "    .colab-df-container {\n",
              "      display:flex;\n",
              "      flex-wrap:wrap;\n",
              "      gap: 12px;\n",
              "    }\n",
              "\n",
              "    .colab-df-convert {\n",
              "      background-color: #E8F0FE;\n",
              "      border: none;\n",
              "      border-radius: 50%;\n",
              "      cursor: pointer;\n",
              "      display: none;\n",
              "      fill: #1967D2;\n",
              "      height: 32px;\n",
              "      padding: 0 0 0 0;\n",
              "      width: 32px;\n",
              "    }\n",
              "\n",
              "    .colab-df-convert:hover {\n",
              "      background-color: #E2EBFA;\n",
              "      box-shadow: 0px 1px 2px rgba(60, 64, 67, 0.3), 0px 1px 3px 1px rgba(60, 64, 67, 0.15);\n",
              "      fill: #174EA6;\n",
              "    }\n",
              "\n",
              "    [theme=dark] .colab-df-convert {\n",
              "      background-color: #3B4455;\n",
              "      fill: #D2E3FC;\n",
              "    }\n",
              "\n",
              "    [theme=dark] .colab-df-convert:hover {\n",
              "      background-color: #434B5C;\n",
              "      box-shadow: 0px 1px 3px 1px rgba(0, 0, 0, 0.15);\n",
              "      filter: drop-shadow(0px 1px 2px rgba(0, 0, 0, 0.3));\n",
              "      fill: #FFFFFF;\n",
              "    }\n",
              "  </style>\n",
              "\n",
              "      <script>\n",
              "        const buttonEl =\n",
              "          document.querySelector('#df-92a1dd79-86de-493b-8c95-a6c8c5fd3b9a button.colab-df-convert');\n",
              "        buttonEl.style.display =\n",
              "          google.colab.kernel.accessAllowed ? 'block' : 'none';\n",
              "\n",
              "        async function convertToInteractive(key) {\n",
              "          const element = document.querySelector('#df-92a1dd79-86de-493b-8c95-a6c8c5fd3b9a');\n",
              "          const dataTable =\n",
              "            await google.colab.kernel.invokeFunction('convertToInteractive',\n",
              "                                                     [key], {});\n",
              "          if (!dataTable) return;\n",
              "\n",
              "          const docLinkHtml = 'Like what you see? Visit the ' +\n",
              "            '<a target=\"_blank\" href=https://colab.research.google.com/notebooks/data_table.ipynb>data table notebook</a>'\n",
              "            + ' to learn more about interactive tables.';\n",
              "          element.innerHTML = '';\n",
              "          dataTable['output_type'] = 'display_data';\n",
              "          await google.colab.output.renderOutput(dataTable, element);\n",
              "          const docLink = document.createElement('div');\n",
              "          docLink.innerHTML = docLinkHtml;\n",
              "          element.appendChild(docLink);\n",
              "        }\n",
              "      </script>\n",
              "    </div>\n",
              "  </div>\n",
              "  "
            ]
          },
          "metadata": {},
          "execution_count": 24
        }
      ]
    },
    {
      "cell_type": "code",
      "source": [
        "from sklearn.ensemble import RandomForestClassifier\n",
        "\n",
        "clf = GridSearchCV(RandomForestClassifier(), {\n",
        "    'n_estimators': [1000],\n",
        "}, cv=5, return_train_score=True)\n",
        "clf.fit(X_train, y_train)\n",
        "pred_FOR1 = clf.predict(X_test)\n",
        "accuracy = accuracy_score(pred_FOR1, y_test)\n",
        "print(\"Accuracy using RandomForest: \", accuracy)"
      ],
      "metadata": {
        "colab": {
          "base_uri": "https://localhost:8080/"
        },
        "id": "cq6dyFh4z5SL",
        "outputId": "be600014-dd79-4b02-973d-65228e5997c7"
      },
      "execution_count": 35,
      "outputs": [
        {
          "output_type": "stream",
          "name": "stdout",
          "text": [
            "Accuracy using RandomForest:  0.7752732240437158\n"
          ]
        }
      ]
    },
    {
      "cell_type": "code",
      "source": [
        "cr = classification_report(y_test, pred_FOR1)\n",
        "\n",
        "print(\"Classification Report:\\n----------------------\\n\", cr)\n",
        "\n",
        "cm = confusion_matrix(y_test,pred_FOR1)\n",
        "\n",
        "\n",
        "# plot confusion matrix \n",
        "plt.figure(figsize=(8,6))\n",
        "sentiment_classes = ['Negative', 'Neutral', 'Positive']\n",
        "sns.heatmap(cm, cmap=plt.cm.Blues, annot=True, fmt='d', \n",
        "            xticklabels=sentiment_classes,\n",
        "            yticklabels=sentiment_classes)\n",
        "plt.title('Confusion matrix', fontsize=16)\n",
        "plt.xlabel('Actual label', fontsize=12)\n",
        "plt.ylabel('Predicted label', fontsize=12)\n",
        "plt.show()"
      ],
      "metadata": {
        "colab": {
          "base_uri": "https://localhost:8080/",
          "height": 620
        },
        "id": "0p1H_4IK0S0I",
        "outputId": "45f1e613-b3cb-419b-df46-f74f9218a872"
      },
      "execution_count": 36,
      "outputs": [
        {
          "output_type": "stream",
          "name": "stdout",
          "text": [
            "Classification Report:\n",
            "----------------------\n",
            "               precision    recall  f1-score   support\n",
            "\n",
            "          -1       0.82      0.92      0.87      1889\n",
            "           0       0.60      0.46      0.52       580\n",
            "           1       0.74      0.59      0.65       459\n",
            "\n",
            "    accuracy                           0.78      2928\n",
            "   macro avg       0.72      0.65      0.68      2928\n",
            "weighted avg       0.76      0.78      0.76      2928\n",
            "\n"
          ]
        },
        {
          "output_type": "display_data",
          "data": {
            "text/plain": [
              "<Figure size 576x432 with 2 Axes>"
            ],
            "image/png": "[encoded data removed]"
          },
          "metadata": {
            "image/png": {
              "width": 475,
              "height": 391
            },
            "needs_background": "light"
          }
        }
      ]
    },
    {
      "cell_type": "code",
      "source": [
        "from sklearn.ensemble import RandomForestClassifier\n",
        "\n",
        "clf = GridSearchCV(RandomForestClassifier(), {\n",
        "    'n_estimators': [1,5,10,15,20,25,30,35,40,45,50,75,100,150,200,500,1000],\n",
        "}, cv=5, return_train_score=True)\n",
        "clf.fit(X_train, y_train)\n",
        "clf.cv_results_"
      ],
      "metadata": {
        "colab": {
          "base_uri": "https://localhost:8080/"
        },
        "id": "Bg77e-0_cR_S",
        "outputId": "b1785225-4775-4970-baef-7d6ae7ab14b7"
      },
      "execution_count": 25,
      "outputs": [
        {
          "output_type": "execute_result",
          "data": {
            "text/plain": [
              "{'mean_fit_time': array([  0.19870429,   0.99521422,   1.94151731,   2.90641489,\n",
              "          3.87525439,   4.83026037,   5.79485545,   6.78009677,\n",
              "          7.75111594,   8.74032235,   9.69939685,  14.51652074,\n",
              "         19.37211876,  29.11551666,  38.53566761,  96.76493969,\n",
              "        193.47832046]),\n",
              " 'mean_score_time': array([0.00316625, 0.01068301, 0.01859121, 0.02706962, 0.03639498,\n",
              "        0.04671988, 0.05364075, 0.06162062, 0.07112079, 0.07848449,\n",
              "        0.08650889, 0.13005681, 0.17282276, 0.25613322, 0.34397006,\n",
              "        0.86733689, 1.75555668]),\n",
              " 'mean_test_score': array([0.62107362, 0.71072337, 0.73249573, 0.73719224, 0.7463282 ,\n",
              "        0.74530245, 0.74777813, 0.75017063, 0.75273196, 0.74965785,\n",
              "        0.74880315, 0.75401193, 0.75486634, 0.75580494, 0.7571709 ,\n",
              "        0.75682956, 0.7555489 ]),\n",
              " 'mean_train_score': array([0.85642909, 0.96245307, 0.98292348, 0.99158982, 0.99419396,\n",
              "        0.99536802, 0.99598701, 0.99688354, 0.997097  , 0.99718238,\n",
              "        0.99728911, 0.99735314, 0.99743853, 0.99743853, 0.99743853,\n",
              "        0.99743853, 0.99743853]),\n",
              " 'param_n_estimators': masked_array(data=[1, 5, 10, 15, 20, 25, 30, 35, 40, 45, 50, 75, 100, 150,\n",
              "                    200, 500, 1000],\n",
              "              mask=[False, False, False, False, False, False, False, False,\n",
              "                    False, False, False, False, False, False, False, False,\n",
              "                    False],\n",
              "        fill_value='?',\n",
              "             dtype=object),\n",
              " 'params': [{'n_estimators': 1},\n",
              "  {'n_estimators': 5},\n",
              "  {'n_estimators': 10},\n",
              "  {'n_estimators': 15},\n",
              "  {'n_estimators': 20},\n",
              "  {'n_estimators': 25},\n",
              "  {'n_estimators': 30},\n",
              "  {'n_estimators': 35},\n",
              "  {'n_estimators': 40},\n",
              "  {'n_estimators': 45},\n",
              "  {'n_estimators': 50},\n",
              "  {'n_estimators': 75},\n",
              "  {'n_estimators': 100},\n",
              "  {'n_estimators': 150},\n",
              "  {'n_estimators': 200},\n",
              "  {'n_estimators': 500},\n",
              "  {'n_estimators': 1000}],\n",
              " 'rank_test_score': array([17, 16, 15, 14, 12, 13, 11,  8,  7,  9, 10,  6,  5,  3,  1,  2,  4],\n",
              "       dtype=int32),\n",
              " 'split0_test_score': array([0.61246265, 0.72300469, 0.74178404, 0.74221084, 0.75330773,\n",
              "        0.75800256, 0.76440461, 0.75416133, 0.75245412, 0.75757576,\n",
              "        0.75970977, 0.76611182, 0.76099018, 0.7631242 , 0.76568502,\n",
              "        0.76909945, 0.76781904]),\n",
              " 'split0_train_score': array([0.85601452, 0.96253602, 0.98174832, 0.99178141, 0.99295549,\n",
              "        0.99594407, 0.99605081, 0.99679795, 0.99701142, 0.99701142,\n",
              "        0.99743836, 0.99743836, 0.99743836, 0.99743836, 0.99743836,\n",
              "        0.99743836, 0.99743836]),\n",
              " 'split1_test_score': array([0.61545028, 0.70635937, 0.73324797, 0.7366624 , 0.74349125,\n",
              "        0.7503201 , 0.75373453, 0.74775928, 0.75629535, 0.74903969,\n",
              "        0.75544174, 0.75416133, 0.75416133, 0.76099018, 0.7631242 ,\n",
              "        0.75672215, 0.75458813]),\n",
              " 'split1_train_score': array([0.84694204, 0.96381684, 0.98313587, 0.99135447, 0.99402284,\n",
              "        0.99562387, 0.99519693, 0.99711816, 0.99722489, 0.99733163,\n",
              "        0.9975451 , 0.99733163, 0.9975451 , 0.9975451 , 0.9975451 ,\n",
              "        0.9975451 , 0.9975451 ]),\n",
              " 'split2_test_score': array([0.62809564, 0.72801025, 0.73057216, 0.73868488, 0.75021349,\n",
              "        0.74893254, 0.7442357 , 0.75277541, 0.7587532 , 0.74551665,\n",
              "        0.74466268, 0.75362938, 0.75448335, 0.74978651, 0.75448335,\n",
              "        0.7557643 , 0.75064048]),\n",
              " 'split2_train_score': array([0.85635005, 0.96510139, 0.98217716, 0.99178228, 0.99477054,\n",
              "        0.99573106, 0.9963714 , 0.99711846, 0.99701174, 0.99733191,\n",
              "        0.99722519, 0.99722519, 0.99743863, 0.99743863, 0.99743863,\n",
              "        0.99743863, 0.99743863]),\n",
              " 'split3_test_score': array([0.62724167, 0.69513237, 0.72117848, 0.73654996, 0.74637062,\n",
              "        0.73911187, 0.74210077, 0.75106746, 0.75106746, 0.75405636,\n",
              "        0.74551665, 0.74807857, 0.75619129, 0.75362938, 0.75320239,\n",
              "        0.75661827, 0.75491033]),\n",
              " 'split3_train_score': array([0.86232657, 0.95933831, 0.98356457, 0.99124867, 0.99445037,\n",
              "        0.99519744, 0.99626467, 0.99626467, 0.99722519, 0.99733191,\n",
              "        0.99711846, 0.99743863, 0.99743863, 0.99743863, 0.99743863,\n",
              "        0.99743863, 0.99743863]),\n",
              " 'split4_test_score': array([0.62211785, 0.70111016, 0.73569599, 0.73185312, 0.7382579 ,\n",
              "        0.73014518, 0.73441503, 0.74508967, 0.74508967, 0.74210077,\n",
              "        0.73868488, 0.74807857, 0.74850555, 0.75149445, 0.74935952,\n",
              "        0.74594364, 0.74978651]),\n",
              " 'split4_train_score': array([0.86051227, 0.96147279, 0.98399146, 0.99178228, 0.99477054,\n",
              "        0.99434365, 0.99605123, 0.99711846, 0.99701174, 0.99690502,\n",
              "        0.99711846, 0.99733191, 0.99733191, 0.99733191, 0.99733191,\n",
              "        0.99733191, 0.99733191]),\n",
              " 'std_fit_time': array([0.00526181, 0.01685655, 0.01858237, 0.01604109, 0.02581722,\n",
              "        0.05687115, 0.04593574, 0.05261173, 0.05558718, 0.09074005,\n",
              "        0.06323023, 0.10916393, 0.13959215, 0.18232185, 0.17672084,\n",
              "        0.65014062, 1.40661077]),\n",
              " 'std_score_time': array([6.99203936e-05, 1.25715852e-03, 2.59758126e-04, 7.15320082e-04,\n",
              "        1.36656856e-03, 2.46024393e-03, 1.35544035e-03, 1.01684582e-03,\n",
              "        3.18380360e-03, 2.01125461e-03, 7.06866347e-04, 3.79539631e-03,\n",
              "        3.66110051e-03, 1.52997097e-03, 4.51295343e-03, 1.44868382e-02,\n",
              "        6.16669975e-02]),\n",
              " 'std_test_score': array([0.00623241, 0.01268231, 0.00676551, 0.00336493, 0.00523429,\n",
              "        0.00967175, 0.01034671, 0.00332101, 0.00469479, 0.00559788,\n",
              "        0.00765962, 0.00658765, 0.004009  , 0.00529138, 0.00619551,\n",
              "        0.00735179, 0.00646815]),\n",
              " 'std_train_score': array([5.32230938e-03, 1.97701829e-03, 8.40795546e-04, 2.37725626e-04,\n",
              "        6.77308289e-04, 5.67013105e-04, 4.14072027e-04, 3.33389363e-04,\n",
              "        1.04546977e-04, 1.86091794e-04, 1.73280796e-04, 7.98214936e-05,\n",
              "        6.74151486e-05, 6.74151486e-05, 6.74151486e-05, 6.74151486e-05,\n",
              "        6.74151486e-05])}"
            ]
          },
          "metadata": {},
          "execution_count": 25
        }
      ]
    },
    {
      "cell_type": "code",
      "source": [
        "dataset = pd.DataFrame(clf.cv_results_)\n",
        "dataset.head()"
      ],
      "metadata": {
        "colab": {
          "base_uri": "https://localhost:8080/",
          "height": 386
        },
        "id": "ppfRnE7ycqli",
        "outputId": "de2cdd9c-6803-49b0-95ef-43e3026f2332"
      },
      "execution_count": 26,
      "outputs": [
        {
          "output_type": "execute_result",
          "data": {
            "text/plain": [
              "   mean_fit_time  std_fit_time  mean_score_time  std_score_time  \\\n",
              "0       0.198704      0.005262         0.003166        0.000070   \n",
              "1       0.995214      0.016857         0.010683        0.001257   \n",
              "2       1.941517      0.018582         0.018591        0.000260   \n",
              "3       2.906415      0.016041         0.027070        0.000715   \n",
              "4       3.875254      0.025817         0.036395        0.001367   \n",
              "\n",
              "  param_n_estimators                params  split0_test_score  \\\n",
              "0                  1   {'n_estimators': 1}           0.612463   \n",
              "1                  5   {'n_estimators': 5}           0.723005   \n",
              "2                 10  {'n_estimators': 10}           0.741784   \n",
              "3                 15  {'n_estimators': 15}           0.742211   \n",
              "4                 20  {'n_estimators': 20}           0.753308   \n",
              "\n",
              "   split1_test_score  split2_test_score  split3_test_score  ...  \\\n",
              "0           0.615450           0.628096           0.627242  ...   \n",
              "1           0.706359           0.728010           0.695132  ...   \n",
              "2           0.733248           0.730572           0.721178  ...   \n",
              "3           0.736662           0.738685           0.736550  ...   \n",
              "4           0.743491           0.750213           0.746371  ...   \n",
              "\n",
              "   mean_test_score  std_test_score  rank_test_score  split0_train_score  \\\n",
              "0         0.621074        0.006232               17            0.856015   \n",
              "1         0.710723        0.012682               16            0.962536   \n",
              "2         0.732496        0.006766               15            0.981748   \n",
              "3         0.737192        0.003365               14            0.991781   \n",
              "4         0.746328        0.005234               12            0.992955   \n",
              "\n",
              "   split1_train_score  split2_train_score  split3_train_score  \\\n",
              "0            0.846942            0.856350            0.862327   \n",
              "1            0.963817            0.965101            0.959338   \n",
              "2            0.983136            0.982177            0.983565   \n",
              "3            0.991354            0.991782            0.991249   \n",
              "4            0.994023            0.994771            0.994450   \n",
              "\n",
              "   split4_train_score  mean_train_score  std_train_score  \n",
              "0            0.860512          0.856429         0.005322  \n",
              "1            0.961473          0.962453         0.001977  \n",
              "2            0.983991          0.982923         0.000841  \n",
              "3            0.991782          0.991590         0.000238  \n",
              "4            0.994771          0.994194         0.000677  \n",
              "\n",
              "[5 rows x 21 columns]"
            ],
            "text/html": [
              "\n",
              "  <div id=\"df-ccf2ff08-0ed4-4582-937c-57c6f4c907b6\">\n",
              "    <div class=\"colab-df-container\">\n",
              "      <div>\n",
              "<style scoped>\n",
              "    .dataframe tbody tr th:only-of-type {\n",
              "        vertical-align: middle;\n",
              "    }\n",
              "\n",
              "    .dataframe tbody tr th {\n",
              "        vertical-align: top;\n",
              "    }\n",
              "\n",
              "    .dataframe thead th {\n",
              "        text-align: right;\n",
              "    }\n",
              "</style>\n",
              "<table border=\"1\" class=\"dataframe\">\n",
              "  <thead>\n",
              "    <tr style=\"text-align: right;\">\n",
              "      <th></th>\n",
              "      <th>mean_fit_time</th>\n",
              "      <th>std_fit_time</th>\n",
              "      <th>mean_score_time</th>\n",
              "      <th>std_score_time</th>\n",
              "      <th>param_n_estimators</th>\n",
              "      <th>params</th>\n",
              "      <th>split0_test_score</th>\n",
              "      <th>split1_test_score</th>\n",
              "      <th>split2_test_score</th>\n",
              "      <th>split3_test_score</th>\n",
              "      <th>...</th>\n",
              "      <th>mean_test_score</th>\n",
              "      <th>std_test_score</th>\n",
              "      <th>rank_test_score</th>\n",
              "      <th>split0_train_score</th>\n",
              "      <th>split1_train_score</th>\n",
              "      <th>split2_train_score</th>\n",
              "      <th>split3_train_score</th>\n",
              "      <th>split4_train_score</th>\n",
              "      <th>mean_train_score</th>\n",
              "      <th>std_train_score</th>\n",
              "    </tr>\n",
              "  </thead>\n",
              "  <tbody>\n",
              "    <tr>\n",
              "      <th>0</th>\n",
              "      <td>0.198704</td>\n",
              "      <td>0.005262</td>\n",
              "      <td>0.003166</td>\n",
              "      <td>0.000070</td>\n",
              "      <td>1</td>\n",
              "      <td>{'n_estimators': 1}</td>\n",
              "      <td>0.612463</td>\n",
              "      <td>0.615450</td>\n",
              "      <td>0.628096</td>\n",
              "      <td>0.627242</td>\n",
              "      <td>...</td>\n",
              "      <td>0.621074</td>\n",
              "      <td>0.006232</td>\n",
              "      <td>17</td>\n",
              "      <td>0.856015</td>\n",
              "      <td>0.846942</td>\n",
              "      <td>0.856350</td>\n",
              "      <td>0.862327</td>\n",
              "      <td>0.860512</td>\n",
              "      <td>0.856429</td>\n",
              "      <td>0.005322</td>\n",
              "    </tr>\n",
              "    <tr>\n",
              "      <th>1</th>\n",
              "      <td>0.995214</td>\n",
              "      <td>0.016857</td>\n",
              "      <td>0.010683</td>\n",
              "      <td>0.001257</td>\n",
              "      <td>5</td>\n",
              "      <td>{'n_estimators': 5}</td>\n",
              "      <td>0.723005</td>\n",
              "      <td>0.706359</td>\n",
              "      <td>0.728010</td>\n",
              "      <td>0.695132</td>\n",
              "      <td>...</td>\n",
              "      <td>0.710723</td>\n",
              "      <td>0.012682</td>\n",
              "      <td>16</td>\n",
              "      <td>0.962536</td>\n",
              "      <td>0.963817</td>\n",
              "      <td>0.965101</td>\n",
              "      <td>0.959338</td>\n",
              "      <td>0.961473</td>\n",
              "      <td>0.962453</td>\n",
              "      <td>0.001977</td>\n",
              "    </tr>\n",
              "    <tr>\n",
              "      <th>2</th>\n",
              "      <td>1.941517</td>\n",
              "      <td>0.018582</td>\n",
              "      <td>0.018591</td>\n",
              "      <td>0.000260</td>\n",
              "      <td>10</td>\n",
              "      <td>{'n_estimators': 10}</td>\n",
              "      <td>0.741784</td>\n",
              "      <td>0.733248</td>\n",
              "      <td>0.730572</td>\n",
              "      <td>0.721178</td>\n",
              "      <td>...</td>\n",
              "      <td>0.732496</td>\n",
              "      <td>0.006766</td>\n",
              "      <td>15</td>\n",
              "      <td>0.981748</td>\n",
              "      <td>0.983136</td>\n",
              "      <td>0.982177</td>\n",
              "      <td>0.983565</td>\n",
              "      <td>0.983991</td>\n",
              "      <td>0.982923</td>\n",
              "      <td>0.000841</td>\n",
              "    </tr>\n",
              "    <tr>\n",
              "      <th>3</th>\n",
              "      <td>2.906415</td>\n",
              "      <td>0.016041</td>\n",
              "      <td>0.027070</td>\n",
              "      <td>0.000715</td>\n",
              "      <td>15</td>\n",
              "      <td>{'n_estimators': 15}</td>\n",
              "      <td>0.742211</td>\n",
              "      <td>0.736662</td>\n",
              "      <td>0.738685</td>\n",
              "      <td>0.736550</td>\n",
              "      <td>...</td>\n",
              "      <td>0.737192</td>\n",
              "      <td>0.003365</td>\n",
              "      <td>14</td>\n",
              "      <td>0.991781</td>\n",
              "      <td>0.991354</td>\n",
              "      <td>0.991782</td>\n",
              "      <td>0.991249</td>\n",
              "      <td>0.991782</td>\n",
              "      <td>0.991590</td>\n",
              "      <td>0.000238</td>\n",
              "    </tr>\n",
              "    <tr>\n",
              "      <th>4</th>\n",
              "      <td>3.875254</td>\n",
              "      <td>0.025817</td>\n",
              "      <td>0.036395</td>\n",
              "      <td>0.001367</td>\n",
              "      <td>20</td>\n",
              "      <td>{'n_estimators': 20}</td>\n",
              "      <td>0.753308</td>\n",
              "      <td>0.743491</td>\n",
              "      <td>0.750213</td>\n",
              "      <td>0.746371</td>\n",
              "      <td>...</td>\n",
              "      <td>0.746328</td>\n",
              "      <td>0.005234</td>\n",
              "      <td>12</td>\n",
              "      <td>0.992955</td>\n",
              "      <td>0.994023</td>\n",
              "      <td>0.994771</td>\n",
              "      <td>0.994450</td>\n",
              "      <td>0.994771</td>\n",
              "      <td>0.994194</td>\n",
              "      <td>0.000677</td>\n",
              "    </tr>\n",
              "  </tbody>\n",
              "</table>\n",
              "<p>5 rows × 21 columns</p>\n",
              "</div>\n",
              "      <button class=\"colab-df-convert\" onclick=\"convertToInteractive('df-ccf2ff08-0ed4-4582-937c-57c6f4c907b6')\"\n",
              "              title=\"Convert this dataframe to an interactive table.\"\n",
              "              style=\"display:none;\">\n",
              "        \n",
              "  <svg xmlns=\"http://www.w3.org/2000/svg\" height=\"24px\"viewBox=\"0 0 24 24\"\n",
              "       width=\"24px\">\n",
              "    <path d=\"M0 0h24v24H0V0z\" fill=\"none\"/>\n",
              "    <path d=\"M18.56 5.44l.94 2.06.94-2.06 2.06-.94-2.06-.94-.94-2.06-.94 2.06-2.06.94zm-11 1L8.5 8.5l.94-2.06 2.06-.94-2.06-.94L8.5 2.5l-.94 2.06-2.06.94zm10 10l.94 2.06.94-2.06 2.06-.94-2.06-.94-.94-2.06-.94 2.06-2.06.94z\"/><path d=\"M17.41 7.96l-1.37-1.37c-.4-.4-.92-.59-1.43-.59-.52 0-1.04.2-1.43.59L10.3 9.45l-7.72 7.72c-.78.78-.78 2.05 0 2.83L4 21.41c.39.39.9.59 1.41.59.51 0 1.02-.2 1.41-.59l7.78-7.78 2.81-2.81c.8-.78.8-2.07 0-2.86zM5.41 20L4 18.59l7.72-7.72 1.47 1.35L5.41 20z\"/>\n",
              "  </svg>\n",
              "      </button>\n",
              "      \n",
              "  <style>\n",
              "    .colab-df-container {\n",
              "      display:flex;\n",
              "      flex-wrap:wrap;\n",
              "      gap: 12px;\n",
              "    }\n",
              "\n",
              "    .colab-df-convert {\n",
              "      background-color: #E8F0FE;\n",
              "      border: none;\n",
              "      border-radius: 50%;\n",
              "      cursor: pointer;\n",
              "      display: none;\n",
              "      fill: #1967D2;\n",
              "      height: 32px;\n",
              "      padding: 0 0 0 0;\n",
              "      width: 32px;\n",
              "    }\n",
              "\n",
              "    .colab-df-convert:hover {\n",
              "      background-color: #E2EBFA;\n",
              "      box-shadow: 0px 1px 2px rgba(60, 64, 67, 0.3), 0px 1px 3px 1px rgba(60, 64, 67, 0.15);\n",
              "      fill: #174EA6;\n",
              "    }\n",
              "\n",
              "    [theme=dark] .colab-df-convert {\n",
              "      background-color: #3B4455;\n",
              "      fill: #D2E3FC;\n",
              "    }\n",
              "\n",
              "    [theme=dark] .colab-df-convert:hover {\n",
              "      background-color: #434B5C;\n",
              "      box-shadow: 0px 1px 3px 1px rgba(0, 0, 0, 0.15);\n",
              "      filter: drop-shadow(0px 1px 2px rgba(0, 0, 0, 0.3));\n",
              "      fill: #FFFFFF;\n",
              "    }\n",
              "  </style>\n",
              "\n",
              "      <script>\n",
              "        const buttonEl =\n",
              "          document.querySelector('#df-ccf2ff08-0ed4-4582-937c-57c6f4c907b6 button.colab-df-convert');\n",
              "        buttonEl.style.display =\n",
              "          google.colab.kernel.accessAllowed ? 'block' : 'none';\n",
              "\n",
              "        async function convertToInteractive(key) {\n",
              "          const element = document.querySelector('#df-ccf2ff08-0ed4-4582-937c-57c6f4c907b6');\n",
              "          const dataTable =\n",
              "            await google.colab.kernel.invokeFunction('convertToInteractive',\n",
              "                                                     [key], {});\n",
              "          if (!dataTable) return;\n",
              "\n",
              "          const docLinkHtml = 'Like what you see? Visit the ' +\n",
              "            '<a target=\"_blank\" href=https://colab.research.google.com/notebooks/data_table.ipynb>data table notebook</a>'\n",
              "            + ' to learn more about interactive tables.';\n",
              "          element.innerHTML = '';\n",
              "          dataTable['output_type'] = 'display_data';\n",
              "          await google.colab.output.renderOutput(dataTable, element);\n",
              "          const docLink = document.createElement('div');\n",
              "          docLink.innerHTML = docLinkHtml;\n",
              "          element.appendChild(docLink);\n",
              "        }\n",
              "      </script>\n",
              "    </div>\n",
              "  </div>\n",
              "  "
            ]
          },
          "metadata": {},
          "execution_count": 26
        }
      ]
    },
    {
      "cell_type": "code",
      "source": [
        "dataset[['param_n_estimators','mean_test_score','mean_train_score']]"
      ],
      "metadata": {
        "colab": {
          "base_uri": "https://localhost:8080/",
          "height": 582
        },
        "id": "JoP5Uzirc2zI",
        "outputId": "16ab3d8c-0b53-4f65-c7ff-c4003384eab7"
      },
      "execution_count": 27,
      "outputs": [
        {
          "output_type": "execute_result",
          "data": {
            "text/plain": [
              "   param_n_estimators  mean_test_score  mean_train_score\n",
              "0                   1         0.621074          0.856429\n",
              "1                   5         0.710723          0.962453\n",
              "2                  10         0.732496          0.982923\n",
              "3                  15         0.737192          0.991590\n",
              "4                  20         0.746328          0.994194\n",
              "5                  25         0.745302          0.995368\n",
              "6                  30         0.747778          0.995987\n",
              "7                  35         0.750171          0.996884\n",
              "8                  40         0.752732          0.997097\n",
              "9                  45         0.749658          0.997182\n",
              "10                 50         0.748803          0.997289\n",
              "11                 75         0.754012          0.997353\n",
              "12                100         0.754866          0.997439\n",
              "13                150         0.755805          0.997439\n",
              "14                200         0.757171          0.997439\n",
              "15                500         0.756830          0.997439\n",
              "16               1000         0.755549          0.997439"
            ],
            "text/html": [
              "\n",
              "  <div id=\"df-d02ba8b5-90a7-4493-ad83-1444eedc382e\">\n",
              "    <div class=\"colab-df-container\">\n",
              "      <div>\n",
              "<style scoped>\n",
              "    .dataframe tbody tr th:only-of-type {\n",
              "        vertical-align: middle;\n",
              "    }\n",
              "\n",
              "    .dataframe tbody tr th {\n",
              "        vertical-align: top;\n",
              "    }\n",
              "\n",
              "    .dataframe thead th {\n",
              "        text-align: right;\n",
              "    }\n",
              "</style>\n",
              "<table border=\"1\" class=\"dataframe\">\n",
              "  <thead>\n",
              "    <tr style=\"text-align: right;\">\n",
              "      <th></th>\n",
              "      <th>param_n_estimators</th>\n",
              "      <th>mean_test_score</th>\n",
              "      <th>mean_train_score</th>\n",
              "    </tr>\n",
              "  </thead>\n",
              "  <tbody>\n",
              "    <tr>\n",
              "      <th>0</th>\n",
              "      <td>1</td>\n",
              "      <td>0.621074</td>\n",
              "      <td>0.856429</td>\n",
              "    </tr>\n",
              "    <tr>\n",
              "      <th>1</th>\n",
              "      <td>5</td>\n",
              "      <td>0.710723</td>\n",
              "      <td>0.962453</td>\n",
              "    </tr>\n",
              "    <tr>\n",
              "      <th>2</th>\n",
              "      <td>10</td>\n",
              "      <td>0.732496</td>\n",
              "      <td>0.982923</td>\n",
              "    </tr>\n",
              "    <tr>\n",
              "      <th>3</th>\n",
              "      <td>15</td>\n",
              "      <td>0.737192</td>\n",
              "      <td>0.991590</td>\n",
              "    </tr>\n",
              "    <tr>\n",
              "      <th>4</th>\n",
              "      <td>20</td>\n",
              "      <td>0.746328</td>\n",
              "      <td>0.994194</td>\n",
              "    </tr>\n",
              "    <tr>\n",
              "      <th>5</th>\n",
              "      <td>25</td>\n",
              "      <td>0.745302</td>\n",
              "      <td>0.995368</td>\n",
              "    </tr>\n",
              "    <tr>\n",
              "      <th>6</th>\n",
              "      <td>30</td>\n",
              "      <td>0.747778</td>\n",
              "      <td>0.995987</td>\n",
              "    </tr>\n",
              "    <tr>\n",
              "      <th>7</th>\n",
              "      <td>35</td>\n",
              "      <td>0.750171</td>\n",
              "      <td>0.996884</td>\n",
              "    </tr>\n",
              "    <tr>\n",
              "      <th>8</th>\n",
              "      <td>40</td>\n",
              "      <td>0.752732</td>\n",
              "      <td>0.997097</td>\n",
              "    </tr>\n",
              "    <tr>\n",
              "      <th>9</th>\n",
              "      <td>45</td>\n",
              "      <td>0.749658</td>\n",
              "      <td>0.997182</td>\n",
              "    </tr>\n",
              "    <tr>\n",
              "      <th>10</th>\n",
              "      <td>50</td>\n",
              "      <td>0.748803</td>\n",
              "      <td>0.997289</td>\n",
              "    </tr>\n",
              "    <tr>\n",
              "      <th>11</th>\n",
              "      <td>75</td>\n",
              "      <td>0.754012</td>\n",
              "      <td>0.997353</td>\n",
              "    </tr>\n",
              "    <tr>\n",
              "      <th>12</th>\n",
              "      <td>100</td>\n",
              "      <td>0.754866</td>\n",
              "      <td>0.997439</td>\n",
              "    </tr>\n",
              "    <tr>\n",
              "      <th>13</th>\n",
              "      <td>150</td>\n",
              "      <td>0.755805</td>\n",
              "      <td>0.997439</td>\n",
              "    </tr>\n",
              "    <tr>\n",
              "      <th>14</th>\n",
              "      <td>200</td>\n",
              "      <td>0.757171</td>\n",
              "      <td>0.997439</td>\n",
              "    </tr>\n",
              "    <tr>\n",
              "      <th>15</th>\n",
              "      <td>500</td>\n",
              "      <td>0.756830</td>\n",
              "      <td>0.997439</td>\n",
              "    </tr>\n",
              "    <tr>\n",
              "      <th>16</th>\n",
              "      <td>1000</td>\n",
              "      <td>0.755549</td>\n",
              "      <td>0.997439</td>\n",
              "    </tr>\n",
              "  </tbody>\n",
              "</table>\n",
              "</div>\n",
              "      <button class=\"colab-df-convert\" onclick=\"convertToInteractive('df-d02ba8b5-90a7-4493-ad83-1444eedc382e')\"\n",
              "              title=\"Convert this dataframe to an interactive table.\"\n",
              "              style=\"display:none;\">\n",
              "        \n",
              "  <svg xmlns=\"http://www.w3.org/2000/svg\" height=\"24px\"viewBox=\"0 0 24 24\"\n",
              "       width=\"24px\">\n",
              "    <path d=\"M0 0h24v24H0V0z\" fill=\"none\"/>\n",
              "    <path d=\"M18.56 5.44l.94 2.06.94-2.06 2.06-.94-2.06-.94-.94-2.06-.94 2.06-2.06.94zm-11 1L8.5 8.5l.94-2.06 2.06-.94-2.06-.94L8.5 2.5l-.94 2.06-2.06.94zm10 10l.94 2.06.94-2.06 2.06-.94-2.06-.94-.94-2.06-.94 2.06-2.06.94z\"/><path d=\"M17.41 7.96l-1.37-1.37c-.4-.4-.92-.59-1.43-.59-.52 0-1.04.2-1.43.59L10.3 9.45l-7.72 7.72c-.78.78-.78 2.05 0 2.83L4 21.41c.39.39.9.59 1.41.59.51 0 1.02-.2 1.41-.59l7.78-7.78 2.81-2.81c.8-.78.8-2.07 0-2.86zM5.41 20L4 18.59l7.72-7.72 1.47 1.35L5.41 20z\"/>\n",
              "  </svg>\n",
              "      </button>\n",
              "      \n",
              "  <style>\n",
              "    .colab-df-container {\n",
              "      display:flex;\n",
              "      flex-wrap:wrap;\n",
              "      gap: 12px;\n",
              "    }\n",
              "\n",
              "    .colab-df-convert {\n",
              "      background-color: #E8F0FE;\n",
              "      border: none;\n",
              "      border-radius: 50%;\n",
              "      cursor: pointer;\n",
              "      display: none;\n",
              "      fill: #1967D2;\n",
              "      height: 32px;\n",
              "      padding: 0 0 0 0;\n",
              "      width: 32px;\n",
              "    }\n",
              "\n",
              "    .colab-df-convert:hover {\n",
              "      background-color: #E2EBFA;\n",
              "      box-shadow: 0px 1px 2px rgba(60, 64, 67, 0.3), 0px 1px 3px 1px rgba(60, 64, 67, 0.15);\n",
              "      fill: #174EA6;\n",
              "    }\n",
              "\n",
              "    [theme=dark] .colab-df-convert {\n",
              "      background-color: #3B4455;\n",
              "      fill: #D2E3FC;\n",
              "    }\n",
              "\n",
              "    [theme=dark] .colab-df-convert:hover {\n",
              "      background-color: #434B5C;\n",
              "      box-shadow: 0px 1px 3px 1px rgba(0, 0, 0, 0.15);\n",
              "      filter: drop-shadow(0px 1px 2px rgba(0, 0, 0, 0.3));\n",
              "      fill: #FFFFFF;\n",
              "    }\n",
              "  </style>\n",
              "\n",
              "      <script>\n",
              "        const buttonEl =\n",
              "          document.querySelector('#df-d02ba8b5-90a7-4493-ad83-1444eedc382e button.colab-df-convert');\n",
              "        buttonEl.style.display =\n",
              "          google.colab.kernel.accessAllowed ? 'block' : 'none';\n",
              "\n",
              "        async function convertToInteractive(key) {\n",
              "          const element = document.querySelector('#df-d02ba8b5-90a7-4493-ad83-1444eedc382e');\n",
              "          const dataTable =\n",
              "            await google.colab.kernel.invokeFunction('convertToInteractive',\n",
              "                                                     [key], {});\n",
              "          if (!dataTable) return;\n",
              "\n",
              "          const docLinkHtml = 'Like what you see? Visit the ' +\n",
              "            '<a target=\"_blank\" href=https://colab.research.google.com/notebooks/data_table.ipynb>data table notebook</a>'\n",
              "            + ' to learn more about interactive tables.';\n",
              "          element.innerHTML = '';\n",
              "          dataTable['output_type'] = 'display_data';\n",
              "          await google.colab.output.renderOutput(dataTable, element);\n",
              "          const docLink = document.createElement('div');\n",
              "          docLink.innerHTML = docLinkHtml;\n",
              "          element.appendChild(docLink);\n",
              "        }\n",
              "      </script>\n",
              "    </div>\n",
              "  </div>\n",
              "  "
            ]
          },
          "metadata": {},
          "execution_count": 27
        }
      ]
    }
  ],
  "metadata": {
    "colab": {
      "collapsed_sections": [],
      "name": "US_Airlines_ML.ipynb",
      "provenance": []
    },
    "kernelspec": {
      "display_name": "Python 3",
      "name": "python3"
    },
    "language_info": {
      "name": "python"
    }
  },
  "nbformat": 4,
  "nbformat_minor": 0
}